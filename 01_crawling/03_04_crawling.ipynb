{
 "cells": [
  {
   "cell_type": "code",
   "execution_count": null,
   "metadata": {},
   "outputs": [],
   "source": [
    "# Import libraries\n",
    "import requests\n",
    "from bs4 import BeautifulSoup\n",
    "\n",
    "# Fetch the webpage\n",
    "res = requests.get('http://v.media.daum.net/v/20170615203441266')\n",
    "\n",
    "# Parse the webpage\n",
    "soup = BeautifulSoup(res.content, 'html.parser')"
   ]
  },
  {
   "cell_type": "markdown",
   "metadata": {},
   "source": [
    "The soup.find_all() function is used to locate all instances of &lt;span&gt; elements with the specified class.\n",
    "<br>The class_='txt_info' argument specifies that only &lt;span&gt; elements containing the class 'txt_info' should be retrieved.\n",
    "<br>All matching &lt;span&gt; elements are collected in the mydata variable as a list of objects."
   ]
  },
  {
   "cell_type": "code",
   "execution_count": null,
   "metadata": {},
   "outputs": [],
   "source": [
    "# Extract the required data\n",
    "mydata = soup.find_all('span', class_='txt_info')"
   ]
  },
  {
   "cell_type": "code",
   "execution_count": null,
   "metadata": {},
   "outputs": [],
   "source": [
    "for data in mydata:\n",
    "    print(data.string)"
   ]
  },
  {
   "cell_type": "markdown",
   "metadata": {},
   "source": [
    "<style>\n",
    "img {\n",
    "  max-width: 1080px;\n",
    "  height: auto;\n",
    "}\n",
    "</style>\n",
    "## How to Find Data in Chrome\n",
    "1. Open Developer Tools in the Chrome browser (shortcut: press F12 on your keyboard).\n",
    "2. Use your mouse to click on the element or data you want to extract.\n",
    "3. Identify the element's tag and class or other attribute values.\n",
    "4. Use this information to refine your find_all query (or equivalent function in your chosen library) for data extraction."
   ]
  },
  {
   "cell_type": "code",
   "execution_count": null,
   "metadata": {},
   "outputs": [
    {
     "name": "stdout",
     "output_type": "stream",
     "text": [
      "CSharp\n",
      "WPF\n",
      "Winform\n",
      "ASPNET\n",
      "SQL\n",
      "MVVM\n",
      "DevExpress\n"
     ]
    }
   ],
   "source": [
    "import requests\n",
    "from bs4 import BeautifulSoup\n",
    "res = requests.get('http://wns0428.synology.me:7503/Blogs?urlHandle=CSharp')\n",
    "soup = BeautifulSoup(res.content,'html.parser')\n",
    "titles = soup.find_all('span', class_='badge')\n",
    "for title in titles:\n",
    "    print(title.get_text())"
   ]
  },
  {
   "cell_type": "markdown",
   "metadata": {},
   "source": [
    "<style>\n",
    "img {\n",
    "  max-width: 960px;\n",
    "  height: auto;\n",
    "}\n",
    "</style>\n",
    "## Powerful Crawling Tip\n",
    "Extract Nested Data Step-by-Step\n",
    "* Directly extract &lt;li&gt; tags from the webpage.\n",
    "* Result: The output resembles the second screenshot."
   ]
  },
  {
   "cell_type": "code",
   "execution_count": null,
   "metadata": {},
   "outputs": [],
   "source": [
    "import requests\n",
    "from bs4 import BeautifulSoup\n",
    "res = requests.get('http://wns0428.synology.me:7503/Blogs?urlHandle=CSharp')\n",
    "soup = BeautifulSoup(res.content,'html.parser')\n",
    "titles = soup.find_all('li')\n",
    "for title in titles:\n",
    "    print(title.get_text())"
   ]
  },
  {
   "cell_type": "markdown",
   "metadata": {},
   "source": [
    "<style>\n",
    "img {\n",
    "  max-width: 960px;\n",
    "  height: auto;\n",
    "}\n",
    "</style>\n",
    "Refined Approach:\n",
    "* Locate the parent &lt;div&gt; tag with class=\"content\".\n",
    "* Extract &lt;li&gt; tags from within this specific section.\n",
    "* Result: The desired output, as shown in the fourth screenshot."
   ]
  },
  {
   "cell_type": "code",
   "execution_count": null,
   "metadata": {},
   "outputs": [],
   "source": [
    "res = requests.get('http://wns0428.synology.me:7503/Blogs?urlHandle=CSharp')\n",
    "soup = BeautifulSoup(res.content,'html.parser')\n",
    "section = soup.find('div', class_='content')"
   ]
  },
  {
   "cell_type": "code",
   "execution_count": null,
   "metadata": {},
   "outputs": [
    {
     "name": "stdout",
     "output_type": "stream",
     "text": [
      "University Portal System\n",
      "Library Seat Management System\n",
      "KADIS HMI software\n",
      "EKMS\n",
      "Electric Vehicle Battery Inspection Equipment Software\n",
      "ASP.NET\n"
     ]
    }
   ],
   "source": [
    "data = section.find_all('li')\n",
    "\n",
    "for title in data:\n",
    "    print(title.get_text())"
   ]
  },
  {
   "cell_type": "markdown",
   "metadata": {},
   "source": [
    "## Crawling Data Preprocessing\n",
    "<br>\n",
    "Examples of using string functions such as `strip()` and `split()`"
   ]
  },
  {
   "cell_type": "code",
   "execution_count": null,
   "metadata": {},
   "outputs": [
    {
     "name": "stdout",
     "output_type": "stream",
     "text": [
      "1.['University', 'Portal', 'System']\n",
      "2.['Library', 'Seat', 'Management', 'System']\n",
      "3.['KADIS', 'HMI', 'software']\n",
      "4.['EKMS']\n",
      "5.['Electric', 'Vehicle', 'Battery', 'Inspection', 'Equipment', 'Software']\n",
      "6.['ASP.NET']\n"
     ]
    }
   ],
   "source": [
    "for index, title in enumerate(data):\n",
    "     # Split text into a list of words, and print the result\n",
    "     # The f-string format: f'{variable1}.{variable2}' allows dynamic insertion of variables into the string\n",
    "    print(f'{index+1}.{title.get_text().split()}')"
   ]
  },
  {
   "cell_type": "code",
   "execution_count": null,
   "metadata": {},
   "outputs": [
    {
     "name": "stdout",
     "output_type": "stream",
     "text": [
      "1.University Portal\n",
      "2.Library Seat Managemen\n",
      "3.KADIS HMI softwar\n",
      "4.EKM\n",
      "5.Electric Vehicle Battery Inspection Equipment Softwar\n",
      "6.ASP.NET\n"
     ]
    }
   ],
   "source": [
    "for index, title in enumerate(data):\n",
    "    # Eemove any leading or trailing occurrences of ' System'\n",
    "    # The f-string format: f'{variable1}.{variable2}' allows dynamic insertion of variables into the string\n",
    "    print(f\"{index+1}.{title.get_text().strip(' System')}\")"
   ]
  }
 ],
 "metadata": {
  "language_info": {
   "name": "python"
  }
 },
 "nbformat": 4,
 "nbformat_minor": 2
}
