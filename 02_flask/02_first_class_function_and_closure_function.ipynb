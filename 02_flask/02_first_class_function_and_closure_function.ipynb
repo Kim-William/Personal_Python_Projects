{
 "cells": [
  {
   "cell_type": "markdown",
   "metadata": {},
   "source": [
    "### 1. Understanding Decorators\n",
    "Decorators are not exclusive to Python Flask but are widely used across various programming languages.<br>\n",
    "Before using decorators from Flask, it is essential to understand the underlying concepts of decorators."
   ]
  },
  {
   "cell_type": "markdown",
   "metadata": {},
   "source": [
    "### 2. What are First-class Functions and Closures?\n",
    "A nested function is a function defined inside another function and can be invoked outside its parent function."
   ]
  },
  {
   "cell_type": "code",
   "execution_count": 3,
   "metadata": {},
   "outputs": [
    {
     "name": "stdout",
     "output_type": "stream",
     "text": [
      "call outer_func function\n",
      "10\n",
      "complex\n"
     ]
    }
   ],
   "source": [
    "def outer_func(num):\n",
    "    print('call outer_func function')\n",
    "    # The nested function can access variables from the enclosing function\n",
    "    def inner_func():\n",
    "        # Accessing 'num' from the outer function\n",
    "        print(num)  \n",
    "        return 'complex'\n",
    "    # Returning the nested function as a result\n",
    "    return inner_func  \n",
    "\n",
    "# First-class function example: Assigning a function to a variable\n",
    "# 'outer_func' returns 'inner_func'\n",
    "fn = outer_func(10)  \n",
    "# Calling the returned 'inner_func'\n",
    "inner_res = fn()  \n",
    "\n",
    "# Closure: The returned function retains access to 'num' from 'outer_func'\n",
    "print(inner_res)  \n"
   ]
  },
  {
   "cell_type": "markdown",
   "metadata": {},
   "source": [
    "#### 2.1. Nested Function\n",
    "A function defined inside another function.  <br>\n",
    "Nested functions can be called and returned within the function where they are defined.  <br>\n",
    "The variables declared inside the function are accessible only within that function, following the same principle as local variables.  "
   ]
  },
  {
   "cell_type": "code",
   "execution_count": 4,
   "metadata": {},
   "outputs": [
    {
     "name": "stdout",
     "output_type": "stream",
     "text": [
      "call outer_func function\n",
      "call inner_func function\n"
     ]
    }
   ],
   "source": [
    "# Define an outer function that prints a message and calls a nested function\n",
    "def outer_func():\n",
    "    print('call outer_func function')  \n",
    "\n",
    "    # Define a nested function (inner function) inside the outer function\n",
    "    def inner_func():\n",
    "        return 'call inner_func function' \n",
    "    # Call the inner function and print its returned message\n",
    "    print(inner_func())  \n",
    "\n",
    "# Call the outer function\n",
    "outer_func()"
   ]
  },
  {
   "cell_type": "code",
   "execution_count": 1,
   "metadata": {},
   "outputs": [
    {
     "ename": "NameError",
     "evalue": "name 'inner_func' is not defined",
     "output_type": "error",
     "traceback": [
      "\u001b[0;31m---------------------------------------------------------------------------\u001b[0m",
      "\u001b[0;31mNameError\u001b[0m                                 Traceback (most recent call last)",
      "Cell \u001b[0;32mIn[1], line 2\u001b[0m\n\u001b[1;32m      1\u001b[0m \u001b[38;5;66;03m# A nested function cannot be called from outside the function where it is defined\u001b[39;00m\n\u001b[0;32m----> 2\u001b[0m \u001b[43minner_func\u001b[49m()\n",
      "\u001b[0;31mNameError\u001b[0m: name 'inner_func' is not defined"
     ]
    }
   ],
   "source": [
    "# A nested function cannot be called from outside the function where it is defined\n",
    "inner_func()"
   ]
  },
  {
   "cell_type": "markdown",
   "metadata": {},
   "source": [
    "### 3. First-class Function\n",
    "A function is considered a first-class function if it can be treated as follows:\n",
    "* Can be stored in a variable.\n",
    "* Can accept other functions as arguments.\n",
    "* Can return a function as its output.\n",
    "\n",
    "Python and First-class Functions\n",
    "* In Python, functions are objects, allowing them to be used like objects in addition to their basic functionality as functions. "
   ]
  },
  {
   "cell_type": "code",
   "execution_count": 6,
   "metadata": {},
   "outputs": [
    {
     "name": "stdout",
     "output_type": "stream",
     "text": [
      "<function calc_square at 0x7f54a8ee21f0>\n"
     ]
    },
    {
     "data": {
      "text/plain": [
       "4"
      ]
     },
     "execution_count": 6,
     "metadata": {},
     "output_type": "execute_result"
    }
   ],
   "source": [
    "def calc_square(digit):\n",
    "    return digit * digit\n",
    "\n",
    "calc_square(2)\n",
    "\n",
    "# A function can be assigned to a variable named func1\n",
    "func1 = calc_square\n",
    "print(func1)\n",
    "\n",
    "# Using the variable func1 as a function works the same as calling the calc_square function directly\n",
    "func1(2)\n"
   ]
  },
  {
   "cell_type": "code",
   "execution_count": 2,
   "metadata": {},
   "outputs": [],
   "source": [
    "# A function can accept another function as an argument\n",
    "\n",
    "def calc_square(digit):\n",
    "    return digit * digit  \n",
    "\n",
    "def calc_plus(digit):\n",
    "    return digit + digit  \n",
    "\n",
    "def calc_quad(digit):\n",
    "    return digit * digit * digit * digit  \n",
    "\n",
    "def list_square(func, digit_list):\n",
    "    result = [] \n",
    "    for digit in digit_list:\n",
    "        result.append(func(digit)) \n",
    "    print(result)  "
   ]
  },
  {
   "cell_type": "code",
   "execution_count": 8,
   "metadata": {},
   "outputs": [
    {
     "name": "stdout",
     "output_type": "stream",
     "text": [
      "[1, 4, 9, 16, 25]\n",
      "[2, 4, 6, 8, 10]\n",
      "[1, 16, 81, 256, 625]\n"
     ]
    }
   ],
   "source": [
    "num_list = [1,2,3,4,5]\n",
    "list_square(calc_square, num_list)\n",
    "list_square(calc_plus, num_list)\n",
    "list_square(calc_quad, num_list)"
   ]
  },
  {
   "cell_type": "code",
   "execution_count": 17,
   "metadata": {},
   "outputs": [
    {
     "name": "stdout",
     "output_type": "stream",
     "text": [
      "<function logger.<locals>.write_msg at 0x7fddd46bd670>\n",
      "[ERROR]: invalid value\n"
     ]
    }
   ],
   "source": [
    "# A function can return another function as its result\n",
    "def logger(msg):\n",
    "    message = msg\n",
    "    def write_msg():\n",
    "        print(f'[ERROR]: {message}')\n",
    "    return write_msg\n",
    "\n",
    "log1 = logger('invalid value')\n",
    "print(log1)\n",
    "log1()"
   ]
  },
  {
   "cell_type": "code",
   "execution_count": 18,
   "metadata": {},
   "outputs": [
    {
     "name": "stdout",
     "output_type": "stream",
     "text": [
      "[ERROR]: invalid value\n"
     ]
    }
   ],
   "source": [
    "# Even if the logger function is deleted, \n",
    "# the log1() function retains access to the write_msg function \n",
    "# inside the logger function along with the value of msg.\n",
    "del logger\n",
    "log1()"
   ]
  },
  {
   "cell_type": "markdown",
   "metadata": {},
   "source": [
    "#### 3.1. Using First-class Functions"
   ]
  },
  {
   "cell_type": "code",
   "execution_count": 5,
   "metadata": {},
   "outputs": [
    {
     "name": "stdout",
     "output_type": "stream",
     "text": [
      "<function html_creator.<locals>.text_wrapper at 0x7f97726ca790>\n",
      "<h1>the \"h1\" tag is used to display titles</h1>\n"
     ]
    }
   ],
   "source": [
    "def html_creator(tag):\n",
    "    # Nested function to wrap a message with the specified HTML tag\n",
    "    def text_wrapper(msg):\n",
    "        print (f'<{tag}>{msg}</{tag}>')\n",
    "    return text_wrapper\n",
    "\n",
    "h1_html_creator = html_creator('h1')\n",
    "\n",
    "print(h1_html_creator)\n",
    "h1_html_creator('the \"h1\" tag is used to display titles')"
   ]
  },
  {
   "cell_type": "code",
   "execution_count": 6,
   "metadata": {},
   "outputs": [
    {
     "name": "stdout",
     "output_type": "stream",
     "text": [
      "<p>The \"p\" tag is used to display paragraphs.</p>\n"
     ]
    }
   ],
   "source": [
    "p_html_creator = html_creator('p')\n",
    "p_html_creator('The \"p\" tag is used to display paragraphs.')"
   ]
  },
  {
   "cell_type": "code",
   "execution_count": 22,
   "metadata": {},
   "outputs": [
    {
     "name": "stdout",
     "output_type": "stream",
     "text": [
      "* Hello\n",
      "* my name is\n",
      "* WoongKeol Kim\n"
     ]
    }
   ],
   "source": [
    "def index_creator(char):\n",
    "    def text_wrapper(msg_list):\n",
    "        for msg in msg_list:\n",
    "            print(f'{char} {msg}')\n",
    "    return text_wrapper\n",
    "\n",
    "func1 = index_creator('*')\n",
    "func1(['Hello', 'my name is', 'WoongKeol Kim'])"
   ]
  },
  {
   "cell_type": "markdown",
   "metadata": {},
   "source": [
    "### 4. Closure Function\n",
    "A technique where a function and the data it holds are copied and stored together for use as a separate function (similar to First-class functions).<br>\n",
    "Even after the outer function is destroyed, the local variables inside the outer function and the nested function (inner function) can still be accessed."
   ]
  },
  {
   "cell_type": "code",
   "execution_count": 1,
   "metadata": {},
   "outputs": [
    {
     "name": "stdout",
     "output_type": "stream",
     "text": [
      "10\n",
      "Hello, this is inner function!\n"
     ]
    }
   ],
   "source": [
    "def outer_func(num):\n",
    "    # Key concept of a closure: The nested function can access the outer function's variable\n",
    "    # inner_func can access the outer variable 'num' even after outer_func has finished executing\n",
    "    def inner_func():\n",
    "        print(num) \n",
    "        return 'Hello, this is inner function!' \n",
    "    return inner_func\n",
    "\n",
    "# First-class function\n",
    "closure_func = outer_func(10)\n",
    "# Call the closure\n",
    "print(closure_func())\n"
   ]
  },
  {
   "cell_type": "code",
   "execution_count": 2,
   "metadata": {},
   "outputs": [
    {
     "name": "stdout",
     "output_type": "stream",
     "text": [
      "10\n",
      "Hello, this is inner function!\n"
     ]
    }
   ],
   "source": [
    "# Even if the outer_func function is deleted, \n",
    "# the inner_func() function and the value of num are still retained.\n",
    "del outer_func\n",
    "print(closure_func())"
   ]
  }
 ],
 "metadata": {
  "kernelspec": {
   "display_name": "Python (.vppp)",
   "language": "python",
   "name": ".vppp"
  },
  "language_info": {
   "codemirror_mode": {
    "name": "ipython",
    "version": 3
   },
   "file_extension": ".py",
   "mimetype": "text/x-python",
   "name": "python",
   "nbconvert_exporter": "python",
   "pygments_lexer": "ipython3",
   "version": "3.9.20"
  }
 },
 "nbformat": 4,
 "nbformat_minor": 2
}
