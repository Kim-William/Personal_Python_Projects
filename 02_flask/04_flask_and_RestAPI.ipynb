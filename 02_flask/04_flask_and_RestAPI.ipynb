{
 "cells": [
  {
   "cell_type": "markdown",
   "metadata": {},
   "source": [
    "### 1. Flask and REST API\n",
    "\n",
    "#### 1.1. Returning Static Pages (HTML)\n",
    "Flask provides a simple way to connect complex URIs to functions.<br>\n",
    "`h1` to `h6` are HTML tags used to define header levels."
   ]
  },
  {
   "cell_type": "code",
   "execution_count": 15,
   "metadata": {},
   "outputs": [
    {
     "name": "stdout",
     "output_type": "stream",
     "text": [
      " * Serving Flask app '__main__'\n",
      " * Debug mode: off\n"
     ]
    },
    {
     "name": "stderr",
     "output_type": "stream",
     "text": [
      "\u001b[31m\u001b[1mWARNING: This is a development server. Do not use it in a production deployment. Use a production WSGI server instead.\u001b[0m\n",
      " * Running on all addresses (0.0.0.0)\n",
      " * Running on http://127.0.0.1:5555\n",
      " * Running on http://172.22.109.123:5555\n",
      "\u001b[33mPress CTRL+C to quit\u001b[0m\n",
      "127.0.0.1 - - [01/Jan/2025 19:36:52] \"GET / HTTP/1.1\" 200 -\n",
      "127.0.0.1 - - [01/Jan/2025 19:36:52] \"\u001b[33mGET /favicon.ico HTTP/1.1\u001b[0m\" 404 -\n",
      "127.0.0.1 - - [01/Jan/2025 19:37:28] \"GET /hello HTTP/1.1\" 200 -\n",
      "127.0.0.1 - - [01/Jan/2025 19:37:41] \"GET /first HTTP/1.1\" 200 -\n"
     ]
    }
   ],
   "source": [
    "from flask import Flask\n",
    "\n",
    "app = Flask(__name__)\n",
    "\n",
    "# Define a route for the root URI\n",
    "@app.route(\"/\")\n",
    "def index():                           \n",
    "    # Return the content for the home page\n",
    "    return \"<h1>Home page!</h1>\"\n",
    "\n",
    "# Define a route for the \"/hello\" URI\n",
    "@app.route(\"/hello\")\n",
    "def hello():\n",
    "    # Return the content for the hello page\n",
    "    return \"<h1>Hello!!</h1>\"\n",
    "\n",
    "# Define a route for the \"/first\" URI\n",
    "@app.route(\"/first\")\n",
    "def first():\n",
    "    # Return the content for the first page\n",
    "    return \"<h3>First page!!</h3>\"\n",
    "\n",
    "if __name__ == \"__main__\":              \n",
    "    app.run(host=\"0.0.0.0\", port=\"5555\")"
   ]
  },
  {
   "cell_type": "markdown",
   "metadata": {},
   "source": [
    "#### 1.2. Using Variables in URIs\n",
    "When a `username` is entered into the URI, it will be displayed on the HTML page.<br>\n",
    "This allows dynamic content to be rendered based on the provided URI parameters."
   ]
  },
  {
   "cell_type": "code",
   "execution_count": 16,
   "metadata": {},
   "outputs": [
    {
     "name": "stdout",
     "output_type": "stream",
     "text": [
      " * Serving Flask app '__main__'\n",
      " * Debug mode: off\n"
     ]
    },
    {
     "name": "stderr",
     "output_type": "stream",
     "text": [
      "\u001b[31m\u001b[1mWARNING: This is a development server. Do not use it in a production deployment. Use a production WSGI server instead.\u001b[0m\n",
      " * Running on all addresses (0.0.0.0)\n",
      " * Running on http://127.0.0.1:5555\n",
      " * Running on http://172.22.109.123:5555\n",
      "\u001b[33mPress CTRL+C to quit\u001b[0m\n",
      "127.0.0.1 - - [01/Jan/2025 19:39:55] \"GET / HTTP/1.1\" 200 -\n",
      "127.0.0.1 - - [01/Jan/2025 19:40:12] \"GET /profile/WoongKeol%20Kim HTTP/1.1\" 200 -\n",
      "127.0.0.1 - - [01/Jan/2025 19:41:22] \"GET /profile/Kim HTTP/1.1\" 200 -\n"
     ]
    }
   ],
   "source": [
    "from flask import Flask\n",
    "\n",
    "app = Flask(__name__)\n",
    "\n",
    "@app.route(\"/\")\n",
    "def index():                           \n",
    "    return \"<h1>Home page!</h1>\"\n",
    "\n",
    "@app.route(\"/hello\")\n",
    "def hello():\n",
    "    return \"<h1>Hello!!</h1>\"\n",
    "\n",
    "@app.route(\"/first\")\n",
    "def first():\n",
    "    return \"<h3>First page!!</h3>\"\n",
    "\n",
    "# Define a route that accepts a dynamic variable `username`\n",
    "@app.route(\"/profile/<username>\")\n",
    "def get_profile(username):\n",
    "    # Dynamically return the username passed in the URI\n",
    "    return f'<h1>Hello my name is {username}</h1>'\n",
    "\n",
    "if __name__ == \"__main__\":              \n",
    "    app.run(host=\"0.0.0.0\", port=\"5555\")"
   ]
  },
  {
   "cell_type": "markdown",
   "metadata": {},
   "source": [
    "#### 1.3. Specifying Data Types for URI Variables\n",
    "If no data type is specified, the variable is treated as a string by default.<br>\n",
    "Flask allows you to specify other data types like `int` or `float` for dynamic URI variables."
   ]
  },
  {
   "cell_type": "code",
   "execution_count": 17,
   "metadata": {},
   "outputs": [
    {
     "name": "stdout",
     "output_type": "stream",
     "text": [
      " * Serving Flask app '__main__'\n",
      " * Debug mode: off\n"
     ]
    },
    {
     "name": "stderr",
     "output_type": "stream",
     "text": [
      "\u001b[31m\u001b[1mWARNING: This is a development server. Do not use it in a production deployment. Use a production WSGI server instead.\u001b[0m\n",
      " * Running on http://127.0.0.1:5555\n",
      "\u001b[33mPress CTRL+C to quit\u001b[0m\n",
      "127.0.0.1 - - [01/Jan/2025 19:43:50] \"GET / HTTP/1.1\" 200 -\n",
      "127.0.0.1 - - [01/Jan/2025 19:43:59] \"\u001b[33mGET /message/a HTTP/1.1\u001b[0m\" 404 -\n",
      "127.0.0.1 - - [01/Jan/2025 19:44:17] \"GET /message/3 HTTP/1.1\" 200 -\n"
     ]
    }
   ],
   "source": [
    "from flask import Flask\n",
    "\n",
    "app = Flask(__name__)\n",
    "\n",
    "@app.route(\"/\")\n",
    "def index():                           \n",
    "    return \"<h1>Home page!</h1>\"\n",
    "\n",
    "@app.route(\"/hello\")\n",
    "def hello():\n",
    "    return \"<h1>Hello!!</h1>\"\n",
    "\n",
    "@app.route(\"/first\")\n",
    "def first():\n",
    "    return \"<h3>First page!!</h3>\"\n",
    "\n",
    "@app.route(\"/profile/<username>\")\n",
    "def get_profile(username):\n",
    "    return f'<h1>Hello my name is {username}</h1>'\n",
    "\n",
    "# Define a route with an integer variable `message_id`\n",
    "@app.route(\"/message/<int:message_id>\")\n",
    "def get_message(message_id):\n",
    "    # Dynamically return the integer `message_id` passed in the URI\n",
    "    return f'<h3>Message id: {message_id}</h3>'\n",
    "\n",
    "if __name__ == \"__main__\":              \n",
    "    app.run(host=\"127.0.0.1\", port=\"5555\")"
   ]
  },
  {
   "cell_type": "markdown",
   "metadata": {},
   "source": [
    "---"
   ]
  },
  {
   "cell_type": "markdown",
   "metadata": {},
   "source": [
    "### 2. What is a REST API?\n",
    "\n",
    "#### 2.1. HTTP (Hypertext Transfer Protocol)\n",
    "The HTTP protocol operates on a Server/Client model, using Request/Response communication.\n",
    "* The client sends a request, and the server responds with the required data or status.\n",
    "\n",
    "> Protocol: A set of rules for communication between computers."
   ]
  },
  {
   "cell_type": "markdown",
   "metadata": {},
   "source": [
    "#### 2.2. HTTP(Hypertext Transfer Protocol) Request/Response\n",
    "##### 2.2.1. Request\n",
    "<img src=\"source/imgs/flask_and_rest_1.png\" width=600px height=250px/><br>\n",
    "##### 2.2.2. Response\n",
    "<img src=\"source/imgs/flask_and_rest_2.png\" width=600px height=250px/>\n"
   ]
  },
  {
   "cell_type": "markdown",
   "metadata": {},
   "source": [
    "#### 2.3. REST (REpresentational State Transfer)\n",
    "REST is an architectural style for distributed systems.\n",
    "- It transfers the state of a resource through its representation (e.g., JSON, XML).\n",
    "- Resources are identified using HTTP URIs, and HTTP methods are used to perform CRUD operations on the resources:\n",
    "- **CRUD** Operations with HTTP Methods:\n",
    "  - **C**reate: Create a new resource (POST)\n",
    "  - **R**ead: Retrieve a resource (GET)\n",
    "  - **U**pdate: Modify an existing resource (PUT)\n",
    "  - **D**elete: Remove a resource (DELETE)\n",
    "\n",
    "#### 2.4. REST API\n",
    "A REST API implements services based on the REST architecture.<br>\n",
    "It is commonly used in microservices, OpenAPIs (APIs available for public use), and other distributed systems.\n",
    "\n",
    "#### 2.5. Implementing REST APIs with Flask\n",
    "You can create a REST API in Flask by responding to specific URIs with data in JSON format.<br>\n",
    "Flask converts Python `dict` objects into JSON responses using the `jsonify()` method.\n",
    "\n",
    "#### 2.6. Flask `jsonify()` Function\n",
    "The `jsonify()` function in Flask returns data in JSON format, simplifying API responses.\n",
    "\n",
    "---"
   ]
  },
  {
   "cell_type": "markdown",
   "metadata": {},
   "source": [
    "### 3. Implementing REST APIs"
   ]
  },
  {
   "cell_type": "code",
   "execution_count": 1,
   "metadata": {},
   "outputs": [
    {
     "name": "stdout",
     "output_type": "stream",
     "text": [
      " * Serving Flask app '__main__'\n",
      " * Debug mode: off\n"
     ]
    },
    {
     "name": "stderr",
     "output_type": "stream",
     "text": [
      "\u001b[31m\u001b[1mWARNING: This is a development server. Do not use it in a production deployment. Use a production WSGI server instead.\u001b[0m\n",
      " * Running on http://127.0.0.1:5555\n",
      "\u001b[33mPress CTRL+C to quit\u001b[0m\n",
      "127.0.0.1 - - [01/Jan/2025 21:41:53] \"\u001b[33mGET / HTTP/1.1\u001b[0m\" 404 -\n",
      "127.0.0.1 - - [01/Jan/2025 21:41:59] \"\u001b[33mGET / HTTP/1.1\u001b[0m\" 404 -\n",
      "127.0.0.1 - - [01/Jan/2025 21:42:04] \"GET /json_test HTTP/1.1\" 200 -\n",
      "127.0.0.1 - - [01/Jan/2025 21:42:32] \"GET /server_info HTTP/1.1\" 200 -\n"
     ]
    }
   ],
   "source": [
    "from flask import Flask, jsonify\n",
    "app = Flask(__name__)\n",
    "\n",
    "# Create a route that returns JSON data using jsonify()\n",
    "@app.route('/json_test')\n",
    "def hello_json():\n",
    "    # Define data as a dictionary and return it in JSON format\n",
    "    data = {'first name': 'Woong-Keol', 'last name': 'Kim'}\n",
    "    return jsonify(data)\n",
    "\n",
    "# Create another route that provides server information in JSON format\n",
    "@app.route('/server_info')\n",
    "def server_json():\n",
    "    data = {'server_name': 'localhost', 'server_port': '5555'}\n",
    "    return jsonify(data)\n",
    "\n",
    "if __name__ == \"__main__\":              \n",
    "    app.run(host=\"127.0.0.1\", port=\"5555\")"
   ]
  },
  {
   "cell_type": "markdown",
   "metadata": {},
   "source": [
    "#### 3.1. Implementing Frontend and Backend Together Using Flask"
   ]
  },
  {
   "cell_type": "code",
   "execution_count": 2,
   "metadata": {},
   "outputs": [
    {
     "name": "stdout",
     "output_type": "stream",
     "text": [
      " * Serving Flask app '__main__'\n",
      " * Debug mode: off\n"
     ]
    },
    {
     "name": "stderr",
     "output_type": "stream",
     "text": [
      "\u001b[31m\u001b[1mWARNING: This is a development server. Do not use it in a production deployment. Use a production WSGI server instead.\u001b[0m\n",
      " * Running on all addresses (0.0.0.0)\n",
      " * Running on http://127.0.0.1:5555\n",
      " * Running on http://172.22.109.123:5555\n",
      "\u001b[33mPress CTRL+C to quit\u001b[0m\n",
      "127.0.0.1 - - [01/Jan/2025 21:47:01] \"GET / HTTP/1.1\" 200 -\n",
      "127.0.0.1 - - [01/Jan/2025 21:47:09] \"GET /login HTTP/1.1\" 200 -\n",
      "127.0.0.1 - - [01/Jan/2025 21:47:26] \"\u001b[33mGET /login/&user_name=Kim HTTP/1.1\u001b[0m\" 404 -\n",
      "127.0.0.1 - - [01/Jan/2025 21:47:31] \"\u001b[33mGET /login/?user_name=Kim HTTP/1.1\u001b[0m\" 404 -\n",
      "127.0.0.1 - - [01/Jan/2025 21:47:45] \"GET /login?user_name=Kim HTTP/1.1\" 200 -\n",
      "127.0.0.1 - - [01/Jan/2025 21:47:57] \"GET /login?user_name=Kim HTTP/1.1\" 200 -\n",
      "127.0.0.1 - - [01/Jan/2025 21:49:02] \"GET /login?user_name=Lee HTTP/1.1\" 200 -\n",
      "127.0.0.1 - - [01/Jan/2025 21:49:19] \"GET /login?user_name=Lee HTTP/1.1\" 200 -\n"
     ]
    }
   ],
   "source": [
    "from flask import Flask, jsonify, request\n",
    "\n",
    "app = Flask(__name__)\n",
    "\n",
    "@app.route('/')\n",
    "def index():\n",
    "    return '<h1>Welcome to Homepage</h1>'\n",
    "\n",
    "# Create a route for login authentication\n",
    "@app.route('/login')\n",
    "def login():\n",
    "    # Retrieve the username from query parameters\n",
    "    username = request.args.get('user_name')\n",
    "    if username == 'Kim':\n",
    "        ret_data = {'auth': 'success'}\n",
    "    else:\n",
    "        ret_data = {'auth': 'failed'}\n",
    "    return jsonify(ret_data)\n",
    "\n",
    "if __name__ == '__main__':\n",
    "    # Run the Flask application\n",
    "    app.run(host='0.0.0.0', port='5555')\n"
   ]
  },
  {
   "cell_type": "code",
   "execution_count": 3,
   "metadata": {},
   "outputs": [
    {
     "name": "stdout",
     "output_type": "stream",
     "text": [
      " * Serving Flask app '__main__'\n",
      " * Debug mode: off\n"
     ]
    },
    {
     "name": "stderr",
     "output_type": "stream",
     "text": [
      "\u001b[31m\u001b[1mWARNING: This is a development server. Do not use it in a production deployment. Use a production WSGI server instead.\u001b[0m\n",
      " * Running on all addresses (0.0.0.0)\n",
      " * Running on http://127.0.0.1:5555\n",
      " * Running on http://172.22.109.123:5555\n",
      "\u001b[33mPress CTRL+C to quit\u001b[0m\n",
      "127.0.0.1 - - [01/Jan/2025 21:56:01] \"GET /login?user_name=Lee&pw=password&emain_addr=kim.woongkeol@gmail.com HTTP/1.1\" 200 -\n",
      "127.0.0.1 - - [01/Jan/2025 21:56:18] \"GET /login?user_name=Kim&pw=password&emain_addr=kim.woongkeol@gmail.com HTTP/1.1\" 200 -\n",
      "127.0.0.1 - - [01/Jan/2025 21:56:33] \"GET /login?user_name=Kim&pw=password&email_addr=kim.woongkeol@gmail.com HTTP/1.1\" 200 -\n",
      "127.0.0.1 - - [01/Jan/2025 21:59:24] \"GET /login?user_name=Lim&pw=password&email_addr=- HTTP/1.1\" 200 -\n"
     ]
    }
   ],
   "source": [
    "#### Enhanced Version: Adding Multiple Parameters for Login Authentication\n",
    "\n",
    "from flask import Flask, jsonify, request\n",
    "\n",
    "app = Flask(__name__)\n",
    "\n",
    "@app.route('/')\n",
    "def index():\n",
    "    return '<h1>Welcome to Homepage</h1>'\n",
    "\n",
    "# Route to handle login with multiple parameters\n",
    "@app.route('/login')\n",
    "def login():\n",
    "    # Retrieve multiple query parameters from the request\n",
    "    username = request.args.get('user_name')\n",
    "    pw = request.args.get('pw')\n",
    "    email = request.args.get('email_addr')\n",
    "\n",
    "    # Validate username and password\n",
    "    if username == 'Kim':\n",
    "        if pw == 'password':\n",
    "            ret_data = {'auth': 'success', 'email_address':email}\n",
    "        else:\n",
    "            ret_data = {'auth': 'failed'}\n",
    "    else:\n",
    "        ret_data = {'auth': 'failed'}\n",
    "    return jsonify(ret_data)\n",
    "\n",
    "if __name__ == '__main__':\n",
    "    app.run(host='0.0.0.0', port='5555')"
   ]
  },
  {
   "cell_type": "markdown",
   "metadata": {},
   "source": [
    "#### 3.2. Adding Parameters in REST API Requests\n",
    "The most common HTTP request method is **GET**.\n",
    "- In GET requests, parameters and their values are included in the URI.\n",
    "\n",
    "**Syntax**:\n",
    "    ```\n",
    "    URL?parameter1=value1&parameter2=value2\n",
    "    ```\n",
    "- After the base URL, use `?` to indicate the start of parameters.\n",
    "- Use `&` to separate multiple parameters.\n",
    "\n",
    "<img src='source/imgs/flask_and_rest_3.png' width=800px height=300px/>"
   ]
  }
 ],
 "metadata": {
  "kernelspec": {
   "display_name": "Python (.vppp)",
   "language": "python",
   "name": ".vppp"
  },
  "language_info": {
   "codemirror_mode": {
    "name": "ipython",
    "version": 3
   },
   "file_extension": ".py",
   "mimetype": "text/x-python",
   "name": "python",
   "nbconvert_exporter": "python",
   "pygments_lexer": "ipython3",
   "version": "3.9.20"
  }
 },
 "nbformat": 4,
 "nbformat_minor": 2
}
