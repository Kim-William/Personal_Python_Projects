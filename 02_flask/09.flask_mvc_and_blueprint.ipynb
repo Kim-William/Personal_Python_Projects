{
 "cells": [
  {
   "cell_type": "markdown",
   "metadata": {},
   "source": [
    "### 1.  ***A Basic Understanding of Web Service Planning*** :: Implementing a Web Service with Core Features"
   ]
  },
  {
   "cell_type": "markdown",
   "metadata": {},
   "source": [
    "#### 1.1. **MVP (Minimum Viable Product)**\n",
    "- A product with only the minimum set of features required for functionality.\n",
    "- Developed to gather user feedback and gradually improve functionality.\n",
    "- Commonly used by startups to quickly iterate and improve products.\n",
    "\n",
    "**Core Program Goals**\n",
    "- Develop a blog website with the following features:\n",
    "  - Open the blog page on the web.\n",
    "  - Implement A/B Testing to show different versions of the page to users.\n",
    "  - Add a feature to collect user email subscriptions on each page.\n",
    "  - Save subscribed email addresses to the database.\n",
    "  - Notify users upon subscription confirmation.\n",
    "  - Record and save how many people access each page and at what time.\n",
    "\n",
    "#### 1.2. **Understanding the MVC Pattern for Web Service Implementation**\n",
    "- **Model-View-Controller (MVC)**: An architecture derived from software engineering concepts.\n",
    "  - **Model**: Represents the application's data (usually the database).\n",
    "  - **View**: Represents the user interface, including text, buttons, etc. (e.g., web pages).\n",
    "  - **Controller**: Serves as the intermediary between the Model and View, controlling their interaction.\n",
    "- Writing code in the MVC pattern makes it easier to maintain and extend.\n",
    "\n",
    "\n",
    "#### 1.3. **Features to Implement**\n",
    "- Use Flask to develop both the frontend and backend.\n",
    "- Create two versions of the blog page with only the title changed.\n",
    "- Implement logic to randomly show one of the two versions (A: 50%, B: 50%) when accessing the same routing path.\n",
    "  - Log the user's IP address and access time.\n",
    "- Collect and save email addresses upon subscription.\n",
    "  - Ensure that the same blog page is shown for a user after subscription, and the subscription modal no longer appears.\n",
    "  \n",
    "> **Purpose**: After implementing the service, analyzing logs can help determine which blog title attracts more subscribers.<br>This approach can be extended to create a variety of blog services."
   ]
  },
  {
   "cell_type": "markdown",
   "metadata": {},
   "source": [
    "### 2. ***MVC Pattern and Flask Blueprint***"
   ]
  },
  {
   "cell_type": "markdown",
   "metadata": {},
   "source": [
    "#### 2.1. **Challenges of Writing All Code in One File**\n",
    "- Writing all code in a single file makes it complex and difficult to manage.\n",
    "- Always consider reusability.\n",
    "  - However, overly complex architectures are unnecessary for small projects.\n",
    "\n",
    "#### 2.2. **Backend Code Structure in Flask**\n",
    "- Separate features into folders/files for better organization (use `blueprint` to simplify adding/removing features).\n",
    "- No direct \"View\" component for MVC (as the server serves only a REST API for frontend interaction).\n",
    "- **Controller**: API logic.\n",
    "- **Model**: Database and data modeling.\n",
    "\n",
    "> **Key Takeaway**: **Simple is Best!**\n",
    "\n",
    "#### 2.3. **Folder Structure for Feature Separation**\n",
    "- For simple codebases, the MVC pattern may slow down implementation since it requires referencing multiple files.\n",
    "- While MVC is helpful for large-scale systems with complex functionalities, for small projects, a simplified structure is sufficient.\n",
    "\n",
    "**Proposed Structure:**\n",
    "\n",
    "<img src='source/imgs//blueprint/2_2.png' width=180px height=280px/>"
   ]
  },
  {
   "cell_type": "markdown",
   "metadata": {},
   "source": [
    "### 3. ***Flask Blueprint***\n",
    "- Flask `blueprint` allows writing Flask code across multiple source files."
   ]
  },
  {
   "cell_type": "markdown",
   "metadata": {},
   "source": [
    "#### 3.1. **Main Code File**\n",
    "```python\n",
    "from flask import Flask\n",
    "from kim[`foldername`] import blog[`filename`]  # Replace with the actual folder and file names\n",
    "\n",
    "app = Flask(__name__)\n",
    "app.register_blueprint(blog.blog_abtest, url_prefix='/kim')\n",
    "```\n",
    "\n",
    "- **`url_prefix`**: Specifies a prefix for all routes defined in the registered blueprint.  \n",
    "  For example, `/blog` in the `kim.py` file will become `/kim/blog`.\n"
   ]
  },
  {
   "cell_type": "code",
   "execution_count": null,
   "metadata": {},
   "outputs": [],
   "source": [
    "# Blue print Example Code\n",
    "from flask import Blueprint\n",
    "\n",
    "# Define the blueprint objec\n",
    "blog_abtest = Blueprint('kim', __name__)  \n",
    "# Example route: http://localhost:5555/kim/blog\n",
    "@blog_abtest.route('/blog')\n",
    "def blog():\n",
    "    return \"Blueprint Test: Kim's blog\""
   ]
  },
  {
   "cell_type": "markdown",
   "metadata": {},
   "source": [
    "#### 3.2. **Complete Flask Blueprint Example**"
   ]
  },
  {
   "cell_type": "markdown",
   "metadata": {},
   "source": [
    "※ Please refer to the folder structure in the image below. To run the application, execute the `server.py` script.\n",
    "\n",
    "<img src='source/imgs/blueprint/3_2.png' width=100px height=150px/>\n",
    "\n",
    "Expected Result Page:<br>\n",
    "<img src='source/imgs/blueprint/3_2_2.png' width=500px height=80px/>"
   ]
  },
  {
   "cell_type": "code",
   "execution_count": null,
   "metadata": {},
   "outputs": [],
   "source": [
    "# server.py Example Code\n",
    "from flask import Flask\n",
    "# Import the blueprint\n",
    "from view import blog  \n",
    "\n",
    "app = Flask(__name__)\n",
    "# Register the blueprint with a prefix\n",
    "app.register_blueprint(blog.blog_ab, url_prefix='/kim')  \n",
    "\n",
    "if __name__ == '__main__':\n",
    "    app.run(host='0.0.0.0', port='5555')"
   ]
  },
  {
   "cell_type": "code",
   "execution_count": null,
   "metadata": {},
   "outputs": [],
   "source": [
    "# blog.py Example Code\n",
    "from flask import Blueprint\n",
    "\n",
    "# Define the blueprint object\n",
    "blog_ab = Blueprint('kim', __name__)  \n",
    "\n",
    "# Example route: http://localhost:5555/kim/blog\n",
    "@blog_ab.route('/blog')\n",
    "def blog():\n",
    "    return 'TEST BLUEPRINT'"
   ]
  }
 ],
 "metadata": {
  "kernelspec": {
   "display_name": "Python 3 (ipykernel)",
   "language": "python",
   "name": "python3"
  },
  "language_info": {
   "codemirror_mode": {
    "name": "ipython",
    "version": 3
   },
   "file_extension": ".py",
   "mimetype": "text/x-python",
   "name": "python",
   "nbconvert_exporter": "python",
   "pygments_lexer": "ipython3",
   "version": "3.11.4"
  },
  "nbTranslate": {
   "displayLangs": [
    "*"
   ],
   "hotkey": "alt-t",
   "langInMainMenu": true,
   "sourceLang": "en",
   "targetLang": "fr",
   "useGoogleTranslate": true
  }
 },
 "nbformat": 4,
 "nbformat_minor": 2
}
