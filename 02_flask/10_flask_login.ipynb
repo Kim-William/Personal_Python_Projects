{
 "cells": [
  {
   "cell_type": "markdown",
   "metadata": {},
   "source": [
    "## **1. flask_login Library Overview**"
   ]
  },
  {
   "cell_type": "markdown",
   "metadata": {},
   "source": [
    "### **1.1. What is flask_login?**"
   ]
  },
  {
   "cell_type": "markdown",
   "metadata": {},
   "source": [
    "- **flask_login** is a library that handles user authentication and session management for Flask applications.\n",
    "- **Key Functionality**:\n",
    "  - When a user logs in, `flask_login` sends user-related session information to the client via the HTTP response.\n",
    "  - This session information allows the Flask server to identify and authenticate users during subsequent requests."
   ]
  },
  {
   "cell_type": "markdown",
   "metadata": {},
   "source": [
    "### **1.2. Key Operations of flask_login**"
   ]
  },
  {
   "cell_type": "markdown",
   "metadata": {},
   "source": [
    "### **1.3. Login and Session Creation**"
   ]
  },
  {
   "cell_type": "markdown",
   "metadata": {},
   "source": [
    "- When a user logs in, their login data is used to create a user object from the `User` class.\n",
    "- This object is then added to `LoginManager()`, generating a session.\n",
    "- The Flask server includes this session information in the HTTP response."
   ]
  },
  {
   "cell_type": "markdown",
   "metadata": {},
   "source": [
    "### **1.4. `current_user` Object**"
   ]
  },
  {
   "cell_type": "markdown",
   "metadata": {},
   "source": [
    "- `current_user` is a global proxy provided by `flask_login` that represents the logged-in user.\n",
    "- **Main Attributes**:\n",
    "  - `current_user.id`: The user's ID (a Unicode value, equivalent to a Python string).\n",
    "  - `current_user.is_authenticated`: Boolean indicating whether the user is logged in (`True` or `False`).\n",
    "  - Additional attributes can be customized by extending the `User` class."
   ]
  },
  {
   "cell_type": "markdown",
   "metadata": {},
   "source": [
    "### **1.5. Session Validation**"
   ]
  },
  {
   "cell_type": "markdown",
   "metadata": {},
   "source": [
    "- For subsequent requests to the server, session information is sent in the HTTP headers.\n",
    "- If the session's ID matches one managed by `LoginManager()`, APIs protected by `@login_required` are accessible."
   ]
  },
  {
   "cell_type": "markdown",
   "metadata": {},
   "source": [
    "### **1.6. Logout Handling**"
   ]
  },
  {
   "cell_type": "markdown",
   "metadata": {},
   "source": [
    "- Upon user logout, the user's session ID is removed from `LoginManager()`."
   ]
  },
  {
   "cell_type": "markdown",
   "metadata": {},
   "source": [
    "### **1.7. Required Support for User Class**"
   ]
  },
  {
   "cell_type": "markdown",
   "metadata": {},
   "source": [
    "The `User` class should inherit from `UserMixin` and implement the following attributes/methods:\n",
    "- `is_authenticated`: Returns `True` if the user is logged in.\n",
    "- `is_active`: Returns `True` if the user's account is active.\n",
    "- `is_anonymous`: Returns `True` for anonymous (unauthenticated) users.\n",
    "- `get_id()`: Returns a Unicode value that uniquely identifies the user.\n",
    "\n",
    "`UserMixin` provides default implementations for these methods, which can be overridden if needed."
   ]
  },
  {
   "cell_type": "markdown",
   "metadata": {},
   "source": [
    "## **2. Implementation of flask_login**"
   ]
  },
  {
   "cell_type": "markdown",
   "metadata": {},
   "source": [
    "### **2.1. Initial Setup**"
   ]
  },
  {
   "cell_type": "markdown",
   "metadata": {},
   "source": [
    "#### 2.1.1. Define Secret Key"
   ]
  },
  {
   "cell_type": "markdown",
   "metadata": {},
   "source": [
    "- Flask requires a secret key to securely generate session information:\n",
    "```python\n",
    "app.secret_key = os.urandom(24)\n",
    "```"
   ]
  },
  {
   "cell_type": "markdown",
   "metadata": {},
   "source": [
    "#### 2.1.2. Initialize LoginManager"
   ]
  },
  {
   "cell_type": "markdown",
   "metadata": {},
   "source": [
    "- `flask_login` uses `LoginManager` to manage user sessions and enhance security:"
   ]
  },
  {
   "cell_type": "code",
   "execution_count": null,
   "metadata": {},
   "outputs": [],
   "source": [
    "from flask_login import LoginManager\n",
    "\n",
    "login_manager = LoginManager()\n",
    "login_manager.init_app(app)\n",
    "login_manager.session_protection = \"strong\"  # Optional: Enhances session security"
   ]
  },
  {
   "cell_type": "markdown",
   "metadata": {},
   "source": [
    "### **2.2. User Session Creation**"
   ]
  },
  {
   "cell_type": "markdown",
   "metadata": {},
   "source": [
    "- To create a session:\n",
    "  - Instantiate a user object from the `User` class.\n",
    "  - Pass the object to `flask_login.login_user()`.\n",
    "- The session is included in the HTTP response as a `Set-Cookie` header. The browser automatically includes this session in future requests."
   ]
  },
  {
   "cell_type": "markdown",
   "metadata": {},
   "source": [
    "#### Example Code:"
   ]
  },
  {
   "cell_type": "code",
   "execution_count": null,
   "metadata": {},
   "outputs": [],
   "source": [
    "from flask_login import login_user\n",
    "\n",
    "# Create or fetch user object\n",
    "user = User.create(user_email, blog_id)\n",
    "\n",
    "# Log in user and create session\n",
    "login_user(user)"
   ]
  },
  {
   "cell_type": "markdown",
   "metadata": {},
   "source": [
    "### **2.3. Required Pre-Declared Functions for LoginManager**"
   ]
  },
  {
   "cell_type": "markdown",
   "metadata": {},
   "source": [
    "#### 2.3.1. User Loader"
   ]
  },
  {
   "cell_type": "markdown",
   "metadata": {},
   "source": [
    "- Loads the user object from the session information during the first access of `current_user`:"
   ]
  },
  {
   "cell_type": "code",
   "execution_count": null,
   "metadata": {},
   "outputs": [],
   "source": [
    "@login_manager.user_loader\n",
    "def load_user(user_id):\n",
    "    return User.get(user_id)"
   ]
  },
  {
   "cell_type": "markdown",
   "metadata": {},
   "source": [
    "#### 2.3.2. Unauthorized Handler"
   ]
  },
  {
   "cell_type": "markdown",
   "metadata": {},
   "source": [
    "- Handles unauthorized access to pages protected by `@login_required`:"
   ]
  },
  {
   "cell_type": "code",
   "execution_count": null,
   "metadata": {},
   "outputs": [],
   "source": [
    "from flask import jsonify, make_response\n",
    "\n",
    "@login_manager.unauthorized_handler\n",
    "def unauthorized():\n",
    "    return make_response(jsonify(success=False), 401)"
   ]
  },
  {
   "cell_type": "markdown",
   "metadata": {},
   "source": [
    "### **2.4. Session Security**"
   ]
  },
  {
   "cell_type": "markdown",
   "metadata": {},
   "source": [
    "- `flask_login` creates sessions using additional user metadata such as:\n",
    "  - **IP Address**: Ensures requests originate from the same IP.\n",
    "  - **User Agent**: Validates the browser or client used to create the session.\n",
    "- This prevents session hijacking unless both the session and additional metadata are matched."
   ]
  },
  {
   "cell_type": "markdown",
   "metadata": {},
   "source": [
    "### **2.5. Protecting Routes**"
   ]
  },
  {
   "cell_type": "markdown",
   "metadata": {},
   "source": [
    "- Use the `@login_required` decorator to restrict access to logged-in users:"
   ]
  },
  {
   "cell_type": "code",
   "execution_count": null,
   "metadata": {},
   "outputs": [],
   "source": [
    "from flask_login import login_required\n",
    "\n",
    "@app.route('/protected')\n",
    "@login_required\n",
    "def protected():\n",
    "    return \"This is a protected page.\""
   ]
  },
  {
   "cell_type": "markdown",
   "metadata": {},
   "source": [
    "## 3. Implementation of the `User` Class"
   ]
  },
  {
   "cell_type": "markdown",
   "metadata": {},
   "source": [
    "\n",
    "The `User` class is designed to manage user-related operations. It inherits from the `UserMixin` class to support Flask-Login integration. Below is a detailed explanation of the implementation:"
   ]
  },
  {
   "cell_type": "markdown",
   "metadata": {},
   "source": [
    "### **3.1. Key Features**"
   ]
  },
  {
   "cell_type": "markdown",
   "metadata": {},
   "source": [
    "1. **Inheritance from `UserMixin`:**\n",
    "   - Ensures compatibility with Flask-Login, allowing the class to manage user authentication seamlessly.\n",
    "\n",
    "2. **Attributes:**\n",
    "   - `id`: A unique identifier for the user (required).\n",
    "   - `user_email`: Stores the user's email address.\n",
    "   - `blog_id`: Associates the user with a specific blog.\n",
    "\n",
    "3. **Methods:**\n",
    "   - **`get_id`**: Returns the user ID as a string (required by Flask-Login).\n",
    "   - **`get` (static method)**: Retrieves a user by their ID from the database.\n",
    "   - **`find` (static method)**: Retrieves a user by their email address from the database.\n",
    "   - **`create` (static method)**: Creates a new user if one doesn't already exist for the given email and blog ID."
   ]
  },
  {
   "cell_type": "markdown",
   "metadata": {},
   "source": [
    "### **3.2. Code Implementation**"
   ]
  },
  {
   "cell_type": "code",
   "execution_count": null,
   "metadata": {},
   "outputs": [],
   "source": [
    "class User(UserMixin):\n",
    "    def __init__(self, user_id, user_email, blog_id):\n",
    "        # Initialize user with ID, email, and blog association\n",
    "        self.id = user_id\n",
    "        self.user_email = user_email\n",
    "        self.blog_id = blog_id\n",
    "\n",
    "    def get_id(self):\n",
    "        \"\"\"\n",
    "        Returns the user ID as a string, required by Flask-Login.\n",
    "        \"\"\"\n",
    "        return str(self.id)\n",
    "\n",
    "    @staticmethod\n",
    "    def get(user_id):\n",
    "        \"\"\"\n",
    "        Retrieve a user by their ID from the database.\n",
    "        \n",
    "        Args:\n",
    "            user_id (int): The unique identifier of the user.\n",
    "        \n",
    "        Returns:\n",
    "            User object if found, otherwise None.\n",
    "        \"\"\"\n",
    "        # Establish database connection\n",
    "        mysql_db = conn_mysqldb()\n",
    "        db_cursor = mysql_db.cursor()\n",
    "\n",
    "        # Query to fetch user by ID\n",
    "        sql = \"SELECT * FROM user_info WHERE USER_ID = '%s'\" % str(user_id)\n",
    "        db_cursor.execute(sql)\n",
    "        user = db_cursor.fetchone()\n",
    "\n",
    "        if not user:  # Return None if user is not found\n",
    "            db_cursor.close()\n",
    "            return None\n",
    "\n",
    "        # Create a User object with fetched data\n",
    "        user = User(user_id=user[0], user_email=user[1], blog_id=user[2])\n",
    "        db_cursor.close()\n",
    "        return user\n",
    "\n",
    "    @staticmethod\n",
    "    def find(user_email):\n",
    "        \"\"\"\n",
    "        Retrieve a user by their email address from the database.\n",
    "        \n",
    "        Args:\n",
    "            user_email (str): The email of the user.\n",
    "        \n",
    "        Returns:\n",
    "            User object if found, otherwise None.\n",
    "        \"\"\"\n",
    "        # Establish database connection\n",
    "        mysql_db = conn_mysqldb()\n",
    "        db_cursor = mysql_db.cursor()\n",
    "\n",
    "        # Query to fetch user by email\n",
    "        sql = \"SELECT * FROM user_info WHERE USER_EMAIL = '%s'\" % str(user_email)\n",
    "        db_cursor.execute(sql)\n",
    "        user = db_cursor.fetchone()\n",
    "\n",
    "        if not user:  # Return None if user is not found\n",
    "            db_cursor.close()\n",
    "            return None\n",
    "\n",
    "        # Create a User object with fetched data\n",
    "        user = User(user_id=user[0], user_email=user[1], blog_id=user[2])\n",
    "        db_cursor.close()\n",
    "        return user\n",
    "\n",
    "    @staticmethod\n",
    "    def create(user_email, blog_id):\n",
    "        \"\"\"\n",
    "        Create a new user if one does not already exist for the given email.\n",
    "        \n",
    "        Args:\n",
    "            user_email (str): The email of the user to create.\n",
    "            blog_id (int): The blog ID to associate with the user.\n",
    "        \n",
    "        Returns:\n",
    "            User object of the newly created or existing user.\n",
    "        \"\"\"\n",
    "        # Check if a user already exists with the given email\n",
    "        user = User.find(user_email)\n",
    "        if user is None:  # If user does not exist, create a new one\n",
    "            mysql_db = conn_mysqldb()\n",
    "            db_cursor = mysql_db.cursor()\n",
    "\n",
    "            # Query to insert new user\n",
    "            sql = \"INSERT INTO user_info (USER_EMAIL, BLOG_ID) VALUES ('%s', '%s')\" % (\n",
    "                str(user_email), str(blog_id))\n",
    "            db_cursor.execute(sql)\n",
    "            mysql_db.commit()\n",
    "\n",
    "            # Retrieve and return the newly created user\n",
    "            return User.find(user_email)\n",
    "        else:\n",
    "            # Return the existing user\n",
    "            return user"
   ]
  }
 ],
 "metadata": {
  "kernelspec": {
   "display_name": "Python 3 (ipykernel)",
   "language": "python",
   "name": "python3"
  },
  "language_info": {
   "codemirror_mode": {
    "name": "ipython",
    "version": 3
   },
   "file_extension": ".py",
   "mimetype": "text/x-python",
   "name": "python",
   "nbconvert_exporter": "python",
   "pygments_lexer": "ipython3",
   "version": "3.9.13"
  }
 },
 "nbformat": 4,
 "nbformat_minor": 4
}
