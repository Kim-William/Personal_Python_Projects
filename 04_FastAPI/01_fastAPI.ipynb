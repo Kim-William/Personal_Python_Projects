{
 "cells": [
  {
   "cell_type": "markdown",
   "metadata": {},
   "source": [
    "## 1. What is FastAPI?\n",
    "\n",
    "### 1.1. Overview\n",
    "FastAPI is a modern, fast web framework for Python, primarily used for API development. It emphasizes asynchronous processing and is built on Starlette (an asynchronous framework) and Pydantic (a data validation and settings library).\n",
    "\n",
    "### 1.2. Key Features\n",
    "- **Performance-Oriented:** High processing speed through asynchronous programming.\n",
    "- **Ease of Developing RESTful APIs:** Reduces boilerplate code and optimizes data exchange between web services and clients.\n",
    "- **Comparison with Flask:** Flask is based on synchronous processing, while FastAPI is optimized for asynchronous operations.\n",
    "\n",
    "### 1.3. Flask vs FastAPI\n",
    "- **Performance:** FastAPI is faster than Flask and optimized for asynchronous processing.\n",
    "- **Automatic Documentation:** FastAPI generates documentation automatically, whereas Flask requires additional extensions.\n",
    "- **Validation:** FastAPI uses Pydantic for easy data validation, while Flask requires separate libraries.\n",
    "- **Asynchronous Programming:** FastAPI provides seamless handling of async operations.\n",
    "\n",
    "Package Install command<br>\n",
    "```bash\n",
    "pip install fastapi\n",
    "```"
   ]
  },
  {
   "cell_type": "code",
   "execution_count": null,
   "metadata": {},
   "outputs": [],
   "source": [
    "# 01_01_main.py\n",
    "from fastapi import FastAPI\n",
    "\n",
    "app = FastAPI()\n",
    "@app.get('/')\n",
    "def root():\n",
    "    return {\"message\":\"Hello, this is FastAPI\"}\n",
    "\n",
    "@app.get('/info')\n",
    "def info():\n",
    "    return {\"message\":\"Hello, this is Info API\"}\n",
    "\n",
    "@app.get('/hello')\n",
    "def hello():\n",
    "    return {\"message\":\"Hello, this is hello API\"}\n",
    "\n",
    "@app.get('/hello2')\n",
    "def hello2():\n",
    "    return {\"message\":\"Hello, this is hello2 API\"}"
   ]
  },
  {
   "cell_type": "markdown",
   "metadata": {},
   "source": [
    "To run the server:\n",
    "1. Install the `uvicorn` package:\n",
    "    ```bash\n",
    "    pip install uvicorn\n",
    "    ```\n",
    "2. Navigate to the directory where the script is located.\n",
    "3. Run the script to start the API server:\n",
    "    ```bash\n",
    "    uvicorn 01_01_main:app --reload\n",
    "    ```\n",
    "<img src='source/img/01/01/01.png' width=800px>\n",
    "<img src='source/img/01/01/02.png' width=800px>"
   ]
  },
  {
   "cell_type": "markdown",
   "metadata": {},
   "source": [
    "## 2. FastAPI Automatic Documentation\n",
    "\n",
    "### 2.1. Swagger UI (Docs)\n",
    "- Lists all available API endpoints on the left side.\n",
    "- \"Try it out\" button to directly test the API.\n",
    "- Enter required parameters.\n",
    "- Click \"Execute\" to make API calls.\n",
    "- Displays API call results.\n",
    "\n",
    "<img src='source/img/01/02/01.png' width='800px' height='600px'>\n",
    "<img src='source/img/01/02/02.png' width='800px' height='600px'>\n",
    "<img src='source/img/01/02/03.png' width='800px' height='600px'>\n",
    "\n",
    "### 2.2. Redoc\n",
    "- Provides an overview of the entire API structure.\n",
    "- Offers detailed descriptions and request/response examples.\n",
    "- Shows the data model structure and explanations.\n",
    "\n",
    "<img src='source/img/01/02/04.png' width='800px' height='600px'>"
   ]
  },
  {
   "cell_type": "markdown",
   "metadata": {},
   "source": [
    "## 3. Path Parameters and Query Parameters\n",
    "\n",
    "- **Path Parameters:** Variables embedded in the URL, used to handle dynamic values.\n",
    "  - Example: `/item/{item_id}`, where `{item_id}` is a path parameter.\n",
    "  \n",
    "  ```python\n",
    "  @app.get('/item/{item_id}')\n",
    "  def path_1(item_id):\n",
    "      return {\"item_id\": item_id}\n",
    "  ```\n",
    "\n",
    "- **Multiple Path Parameters:** Handling multiple dynamic values.\n",
    "  - Example: `/users/{user_id}/items/{item_name}` where `user_id` and `item_name` are path parameters.\n",
    "  \n",
    "  ```python\n",
    "  @app.get('/users/{user_id}/items/{item_name}')\n",
    "  def path_2(user_id, item_name):\n",
    "      return {\"user_id\": user_id, \"item_name\": item_name}\n",
    "  ```\n",
    "\n",
    "- **Query Parameters:** Defined after the `?` in the URL, used for filtering or sorting.\n",
    "  - Example: `/items/?skip=5&limit=5`, where `skip` and `limit` are query parameters.\n",
    "  \n",
    "  ```python\n",
    "  @app.get('/items/')\n",
    "  def query(skip, limit):\n",
    "      return {\"skip\": skip, \"limit\": limit}\n",
    "  ```"
   ]
  },
  {
   "cell_type": "code",
   "execution_count": null,
   "metadata": {},
   "outputs": [],
   "source": [
    "# 01_02_main.py\n",
    "from fastapi import FastAPI\n",
    "\n",
    "app = FastAPI()\n",
    "\n",
    "@app.get('/')\n",
    "def index():\n",
    "    return {\"message\": \"Hello, this is Index API\"}\n",
    "\n",
    "@app.get('/item/{item_id}')\n",
    "def path_1(item_id):\n",
    "    return {\"item_id\": item_id}\n",
    "\n",
    "@app.get('/users/{user_id}/items/{item_name}')\n",
    "def path_2(user_id, item_name):\n",
    "    return {\"user_id\": user_id, \"item_name\": item_name}\n",
    "\n",
    "@app.get('/items/')\n",
    "def query(skip: int, limit: int):\n",
    "    return {\"skip\": skip, \"limit\": limit}"
   ]
  },
  {
   "cell_type": "markdown",
   "metadata": {},
   "source": [
    "## 4. cURL Commands\n",
    "- Used for interacting with servers via command-line interface.\n",
    "- Similar results can be verified via web browsers.\n",
    "\n",
    "### 4.1. Testing\n",
    "Sending a GET request to the root URL:\n",
    "\n",
    "<img src='source/img/01/04/01.png' width='500px'>"
   ]
  }
 ],
 "metadata": {
  "kernelspec": {
   "display_name": "Python 3",
   "language": "python",
   "name": "python3"
  },
  "language_info": {
   "codemirror_mode": {
    "name": "ipython",
    "version": 3
   },
   "file_extension": ".py",
   "mimetype": "text/x-python",
   "name": "python",
   "nbconvert_exporter": "python",
   "pygments_lexer": "ipython3",
   "version": "3.9.13"
  }
 },
 "nbformat": 4,
 "nbformat_minor": 2
}
