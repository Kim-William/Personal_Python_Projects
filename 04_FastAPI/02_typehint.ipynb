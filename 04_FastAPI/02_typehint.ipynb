{
 "cells": [
  {
   "cell_type": "markdown",
   "metadata": {},
   "source": [
    "## 1. Type Hint\n",
    "Type hints are a programming technique used to explicitly indicate the expected data type of variables or functions. FastAPI leverages type hints to validate incoming requests and facilitate proper data processing.\n",
    "\n",
    "### 1.1. Basic Usage of Type Hints\n",
    "- You can define types for path or query parameters to enable automatic validation.\n",
    "- Examples:\n",
    "  - Path parameter: `app.get('/item/{item_id}')` with `item_id: int`.\n",
    "  - Query parameter: `app.get('/items/')` with `data: str = 'wkkim'`.\n",
    "\n",
    "### 1.2. API Testing\n",
    "- If the input parameters do not match the specified type, an API error will occur, as shown below:\n",
    "\n",
    "<img src='source/img/02/01/01.png' width='600px'>"
   ]
  },
  {
   "cell_type": "code",
   "execution_count": null,
   "metadata": {},
   "outputs": [],
   "source": [
    "# 02_01_main.py\n",
    "from fastapi import FastAPI\n",
    "\n",
    "app = FastAPI()\n",
    "\n",
    "@app.get('/item/{item_id}')\n",
    "def item(item_id: int):\n",
    "    return {'item_id': item_id}\n",
    "\n",
    "@app.get('/items')\n",
    "def items(data: str = 'wkkim'):\n",
    "    return {'data': data}"
   ]
  },
  {
   "cell_type": "markdown",
   "metadata": {},
   "source": [
    "## 2. Advanced Type Hints\n",
    "- FastAPI supports advanced type hints from the `typing` module, such as `List`, `Dict`, etc., to describe complex data structures.\n",
    "\n",
    "### 2.1. Examples:\n",
    "- `List` type for query parameters: `List[int] = Query([])`\n",
    "- `Dict` type for request body: `item: Dict[str, int]`"
   ]
  },
  {
   "cell_type": "code",
   "execution_count": null,
   "metadata": {},
   "outputs": [],
   "source": [
    "# 02_02_main.py\n",
    "from fastapi import FastAPI, Query\n",
    "from typing import List, Dict\n",
    "\n",
    "app = FastAPI()\n",
    "\n",
    "@app.get('/item/{item_id}')\n",
    "async def item(q: List[int] = Query([1, 3, 5])):  # Default value is set to [1, 3, 5]\n",
    "    return {'query': q}\n",
    "\n",
    "@app.post('/additem')\n",
    "async def additem(items: Dict[str, int]):\n",
    "    return items"
   ]
  },
  {
   "cell_type": "markdown",
   "metadata": {},
   "source": [
    "<img src='source/img/02/02/01.png' width='600px'>\n",
    "<img src='source/img/02/02/02.png' width='600px'>"
   ]
  },
  {
   "cell_type": "markdown",
   "metadata": {},
   "source": [
    "## 3. Supported Variable Types\n",
    "\n",
    "### 3.1. Basic Data Types\n",
    "- `int`: Integer\n",
    "- `float`: Floating-point number\n",
    "- `str`: String\n",
    "- `bool`: Boolean\n",
    "\n",
    "### 3.2. Collection Types\n",
    "- `List`: `List[int]` - A list of integers\n",
    "- `Tuple`: `Tuple[str, int]` - A tuple with a string and an integer\n",
    "- `Dict`: `Dict[str, float]` - A dictionary with string keys and floating-point values\n",
    "- `Set`: `Set[bool]` - A set of boolean values\n",
    "\n",
    "### 3.3. Special Types\n",
    "- `None`: Represents a lack of value\n",
    "- `Any`: Allows any type\n",
    "\n",
    "### 3.4. Advanced Types from the `typing` Module\n",
    "- `Optional`: `Optional[str]` - A string or `None`\n",
    "- `Union`: `Union[int, str]` - An integer or a string\n",
    "- `Callable`: `Callable[[int, int], int]` - A function taking two integers and returning an integer\n",
    "- `Iterable`: `Iterable[str]` - An iterable object of strings\n",
    "- `Sequence`: `Sequence[float]` - A sequence of floating-point numbers"
   ]
  },
  {
   "cell_type": "markdown",
   "metadata": {},
   "source": [
    "## 4. Additional Information:\n",
    "### 4.1. **Validation with Type Hints**:\n",
    "   - FastAPI automatically validates incoming data against the specified type hints, reducing the need for manual validation.\n",
    "   - Errors are clearly communicated with a detailed HTTP response.\n",
    "\n",
    "### 4.2. **Integration with Pydantic**:\n",
    "   - Pydantic models can be used alongside type hints for additional flexibility in defining request body structures and ensuring proper validation."
   ]
  },
  {
   "cell_type": "code",
   "execution_count": null,
   "metadata": {},
   "outputs": [],
   "source": [
    "# 02_03_main.py\n",
    "from fastapi import FastAPI\n",
    "from pydantic import BaseModel\n",
    "\n",
    "class Item(BaseModel):\n",
    "    name: str\n",
    "    price: float\n",
    "    is_offer: bool = None\n",
    "\n",
    "app = FastAPI()\n",
    "\n",
    "@app.post('/items/')\n",
    "async def create_item(item: Item):\n",
    "    return item"
   ]
  }
 ],
 "metadata": {
  "language_info": {
   "name": "python"
  }
 },
 "nbformat": 4,
 "nbformat_minor": 2
}
