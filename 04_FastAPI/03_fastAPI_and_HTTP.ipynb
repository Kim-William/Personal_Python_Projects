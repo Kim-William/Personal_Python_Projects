{
 "cells": [
  {
   "cell_type": "markdown",
   "metadata": {},
   "source": [
    "## 1. HTTP Methods\n",
    "\n",
    "HTTP methods define how clients request actions to be performed on resources hosted on a server.\n",
    "\n",
    "### 1.1. **GET**\n",
    "- Retrieves information from the server.\n",
    "- Used for **reading** data without modifying server state.\n",
    "- Typically used for fetching resources such as user profiles or post listings.\n",
    "- **Example Use Cases:**\n",
    "  - Viewing a user profile.\n",
    "  - Retrieving a list of blog posts.\n",
    "\n",
    "### 1.2. **POST**\n",
    "- Sends data to the server to create a new resource.\n",
    "- Used to **submit** data, usually included in the request body.\n",
    "- Commonly applied for submitting forms or creating new records.\n",
    "- **Example Use Cases:**\n",
    "  - Registering a new user.\n",
    "  - Creating a new blog post.\n",
    "\n",
    "### 1.3. **PUT**\n",
    "- Updates an **existing resource** by replacing it entirely.\n",
    "- It requires sending the full resource data in the request.\n",
    "- Suitable for modifying complete resource representations.\n",
    "- **Example Use Cases:**\n",
    "  - Updating a user's profile information.\n",
    "  - Replacing an existing article.\n",
    "\n",
    "### 1.4. **DELETE**\n",
    "- Removes a specified resource from the server.\n",
    "- Once deleted, the resource is no longer accessible.\n",
    "- Used for actions like account or content removal.\n",
    "- **Example Use Cases:**\n",
    "  - Deleting a user account.\n",
    "  - Removing a blog post.\n",
    "\n",
    "Using the correct HTTP method ensures proper communication between the client and server, optimizing resource handling and API efficiency.\n"
   ]
  },
  {
   "cell_type": "code",
   "execution_count": null,
   "metadata": {},
   "outputs": [],
   "source": [
    "# 03_01_main.py\n",
    "from fastapi import FastAPI\n",
    "\n",
    "app = FastAPI()\n",
    "\n",
    "# Root endpoint - Returns a welcome message\n",
    "@app.get(\"/\")\n",
    "def index():\n",
    "    return {\"message\": \"Hello, FastAPI Index method\"}\n",
    "\n",
    "# Retrieve an item by its ID (Path Parameter)\n",
    "@app.get(\"/item/{item_id}\")\n",
    "def get_item(item_id: int):\n",
    "    return {\"item_id\": item_id}\n",
    "\n",
    "# Retrieve items with optional query parameters for pagination\n",
    "@app.get(\"/items/\")\n",
    "def get_items(skip: int = 0, limit: int = 10):\n",
    "    return {\"skip\": skip, \"limit\": limit}\n",
    "\n",
    "# Create a new item (expects a dictionary payload in the request body)\n",
    "@app.post(\"/items/\")\n",
    "def create_items(item: dict):\n",
    "    return {\"item\": item}\n",
    "\n",
    "# Update an existing item by its ID\n",
    "@app.put(\"/item/{item_id}\")\n",
    "def update_item(item_id: int, item: dict):\n",
    "    return {\"item_id\": item_id, \"updated_item\": item}\n",
    "\n",
    "# Delete an item by its ID\n",
    "@app.delete(\"/item/{item_id}\")\n",
    "def delete_item(item_id: int):\n",
    "    return {\"message\": f\"Item {item_id} has been deleted\"}\n"
   ]
  },
  {
   "cell_type": "code",
   "execution_count": null,
   "metadata": {},
   "outputs": [],
   "source": []
  }
 ],
 "metadata": {
  "kernelspec": {
   "display_name": ".vppp",
   "language": "python",
   "name": "python3"
  },
  "language_info": {
   "name": "python",
   "version": "3.9.13"
  }
 },
 "nbformat": 4,
 "nbformat_minor": 2
}
