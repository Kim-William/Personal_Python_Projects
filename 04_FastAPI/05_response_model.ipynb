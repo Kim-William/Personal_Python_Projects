{
 "cells": [
  {
   "cell_type": "markdown",
   "metadata": {},
   "source": [
    "### 1. FastAPI Response Models\n",
    "\n",
    "#### 1.1. Concept and Importance of Response Models\n",
    "\n",
    "- **Definition**: Response models in FastAPI define the structure of the data returned to the client.\n",
    "- **Purpose**: Ensure data validation and provide clear documentation for API users.\n",
    "- **OpenAPI Schema**: Helps in automatic documentation and provides useful information to API users.\n",
    "\n",
    "#### 1.2. Recommended Use of Response Models\n",
    "\n",
    "- **Clear Structure**: Defines the structure of data returned by the API.\n",
    "- **Automatic Documentation**: Automatically included in API documentation.\n",
    "- **Data Validation**: Ensures the correctness of returned data.\n",
    "\n",
    "#### 1.3. `response_model` Syntax\n",
    "\n",
    "- **Usage**: Defined as a parameter in the route decorator.\n",
    "- **Pydantic Model**: Determines how response data is serialized."
   ]
  },
  {
   "cell_type": "code",
   "execution_count": null,
   "metadata": {},
   "outputs": [],
   "source": [
    "# Example Code 05_01_main.py\n",
    "from fastapi import FastAPI\n",
    "from pydantic import BaseModel\n",
    "\n",
    "app = FastAPI()\n",
    "\n",
    "class Item(BaseModel):\n",
    "    name: str\n",
    "    desc: str = None\n",
    "    price: float\n",
    "\n",
    "def get_item_detail(id):\n",
    "    return {\n",
    "        \"name\": \"Item Name\",\n",
    "        \"desc\": \"Item description\",\n",
    "        \"price\": 10.0,\n",
    "        \"final_price\": 7.5\n",
    "    }\n",
    "\n",
    "@app.get(\"/item/{item_id}\", response_model=Item)\n",
    "def get_item(item_id: int):\n",
    "    item = get_item_detail(item_id)\n",
    "    return item"
   ]
  },
  {
   "cell_type": "markdown",
   "metadata": {},
   "source": [
    "<img src='source/img/05/01/01.png' width=800px height=300px>"
   ]
  },
  {
   "cell_type": "markdown",
   "metadata": {},
   "source": [
    "#### 1.4. Advantages of `response_model`\n",
    "\n",
    "1. **Data Validation**: Ensures the correctness of returned data.\n",
    "2. **Automatic Documentation**: Clearly defines response formats in API documentation.\n",
    "3. **Security Enhancement**: Hides internal data that should not be exposed.\n",
    "\n",
    "#### 1.5. Disadvantages of Not Using `response_model`\n",
    "\n",
    "- **Data Exposure Risk**: The entire returned object may be exposed.\n",
    "- **Limited Documentation Features**: Cannot fully utilize automatic documentation capabilities.\n",
    "\n",
    "#### 1.6. Main Types of Response Models\n",
    "\n",
    "##### 1.6.1. Basic Response Model\n",
    "- **Definition**: The most common response model, created by inheriting `BaseModel` from Pydantic.\n",
    "- **Feature**: Clearly defines the response data structure, used in FastAPI with the `response_model` parameter.\n",
    "\n",
    "##### 1.6.2. Union Response Model\n",
    "- **Definition**: Uses Python’s `typing.Union` to return one of multiple possible models.\n",
    "- **Feature**: Allows flexible and diverse response handling."
   ]
  },
  {
   "cell_type": "code",
   "execution_count": null,
   "metadata": {},
   "outputs": [],
   "source": [
    "# Example Code 05_02_main.py\n",
    "from typing import Union\n",
    "from fastapi import FastAPI\n",
    "from pydantic import BaseModel\n",
    "\n",
    "app = FastAPI()\n",
    "\n",
    "class Cat(BaseModel):\n",
    "    name: str\n",
    "\n",
    "class Dog(BaseModel):\n",
    "    name: str\n",
    "\n",
    "@app.get(\"/animal/\", response_model=Union[Cat, Dog])\n",
    "async def get_animal(animal: str):\n",
    "    if animal == \"cat\":\n",
    "        return Cat(name=\"Whiskers\")\n",
    "    else:\n",
    "        return Dog(name=\"Fido\")"
   ]
  },
  {
   "cell_type": "markdown",
   "metadata": {},
   "source": [
    "**Explanation**: The `Cat` and `Dog` classes represent cat and dog models. The `get_animal` function returns an instance of either `Cat` or `Dog` based on the query parameter. The `response_model=Union[Cat, Dog]` ensures the response data matches one of the defined models.\n",
    "\n",
    "##### 1.6.3. List Response Model\n",
    "- **Definition**: A response model used when returning a list of data.\n",
    "- **Feature**: Ensures that returned data follows a specific model structure and provides a consistent data format."
   ]
  },
  {
   "cell_type": "code",
   "execution_count": 1,
   "metadata": {},
   "outputs": [],
   "source": [
    "# Example Code 05_03_main.py\n",
    "from typing import List\n",
    "from fastapi import FastAPI\n",
    "from pydantic import BaseModel\n",
    "\n",
    "app = FastAPI()\n",
    "\n",
    "# The `Item` class defines the structure of an item\n",
    "class Item(BaseModel):\n",
    "    name: str\n",
    "\n",
    "# The `get_items` function returns a list of `Item` instances as JSON, \n",
    "# ensuring the response follows the defined model structure.\n",
    "@app.get(\"/items/\", response_model=List[Item])\n",
    "async def get_items():\n",
    "    return [{\"name\": \"Item 1\"}, {\"name\": \"Item 2\"}]"
   ]
  },
  {
   "cell_type": "markdown",
   "metadata": {},
   "source": [
    "#### 1.7. Summary\n",
    "\n",
    "Using `response_model` in FastAPI ensures structured, validated, and documented API responses. It enhances security by preventing unintended data exposure and improves maintainability by enforcing consistent response formats."
   ]
  }
 ],
 "metadata": {
  "kernelspec": {
   "display_name": ".vppp",
   "language": "python",
   "name": "python3"
  },
  "language_info": {
   "codemirror_mode": {
    "name": "ipython",
    "version": 3
   },
   "file_extension": ".py",
   "mimetype": "text/x-python",
   "name": "python",
   "nbconvert_exporter": "python",
   "pygments_lexer": "ipython3",
   "version": "3.9.13"
  }
 },
 "nbformat": 4,
 "nbformat_minor": 2
}
