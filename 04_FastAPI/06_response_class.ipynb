{
 "cells": [
  {
   "cell_type": "markdown",
   "metadata": {},
   "source": [
    "### 1. FastAPI Response Classes\n",
    "\n",
    "#### 1.1. Definition and Purpose\n",
    "- **Definition**: Response classes control HTTP response types.\n",
    "- **Purpose**: Allows fine-tuned control over response format and behavior.\n",
    "\n",
    "#### 1.2. Common Response Classes\n",
    "1. **JSONResponse**\n",
    "   - **Purpose**: Returns JSON-formatted data.\n",
    "   - **Feature**: Converts Python dictionaries or Pydantic models to JSON strings.\n",
    "\n",
    "    <img src='source/img/06/01/01.png' width=800px>\n",
    "\n",
    "```python\n",
    "# 06_01_main.py\n",
    "from fastapi import FastAPI\n",
    "from fastapi.responses import JSONResponse\n",
    "\n",
    "app = FastAPI()\n",
    "\n",
    "@app.get(\"/json\", response_class=JSONResponse)\n",
    "def read_json():\n",
    "    return {\"msg\": \"This is JSON\"}\n",
    "```"
   ]
  },
  {
   "cell_type": "markdown",
   "metadata": {},
   "source": [
    "2. **HTMLResponse**\n",
    "   - **Purpose**: Returns HTML content.\n",
    "   - **Feature**: Useful for sending web page contents.\n",
    "   \n",
    "    <img src='source/img/06/01/02.png' width=800px>\n",
    "\n",
    "```python\n",
    "# 06_02_main.py\n",
    "from fastapi import FastAPI\n",
    "from fastapi.responses import HTMLResponse\n",
    "\n",
    "app = FastAPI()\n",
    "\n",
    "@app.get(\"/html\", response_class=HTMLResponse)\n",
    "def read_html():\n",
    "    return \"<h1>This is HTML</h1>\"\n",
    "```"
   ]
  },
  {
   "cell_type": "markdown",
   "metadata": {},
   "source": [
    "3. **PlainTextResponse**\n",
    "   - **Purpose**: Returns plain text responses.\n",
    "   - **Feature**: Useful for logs or simple messages.\n",
    "   \n",
    "    <img src='source/img/06/01/03.png' width=800px>\n",
    "\n",
    "```python\n",
    "# 06_03_main.py\n",
    "from fastapi import FastAPI\n",
    "from fastapi.responses import PlainTextResponse\n",
    "\n",
    "app = FastAPI()\n",
    "\n",
    "@app.get(\"/text\", response_class=PlainTextResponse)\n",
    "def read_text():\n",
    "    return \"This is Plain Text\"\n",
    "```"
   ]
  },
  {
   "cell_type": "markdown",
   "metadata": {},
   "source": [
    "4. **RedirectResponse**\n",
    "   - **Purpose**: Redirects clients to another URL.\n",
    "   - **Feature**: Used for navigation between pages or routes.\n",
    "   \n",
    "    <img src='source/img/06/01/04.png' width=800px>\n",
    "\n",
    "```python\n",
    "# 06_04_main.py\n",
    "from fastapi import FastAPI\n",
    "from fastapi.responses import RedirectResponse\n",
    "\n",
    "app = FastAPI()\n",
    "\n",
    "@app.get(\"/redirect\")\n",
    "def read_redirect():\n",
    "    return RedirectResponse(url=\"/text\")\n",
    "```"
   ]
  },
  {
   "cell_type": "markdown",
   "metadata": {},
   "source": [
    "\n",
    "## Conclusion\n",
    "- Using **response models** ensures data validity, security, and automatic documentation.\n",
    "- Different **response classes** provide fine control over the format of responses.\n",
    "- Proper implementation improves API usability, consistency, and maintainability.\n",
    "\n"
   ]
  }
 ],
 "metadata": {
  "kernelspec": {
   "display_name": ".vppp",
   "language": "python",
   "name": "python3"
  },
  "language_info": {
   "codemirror_mode": {
    "name": "ipython",
    "version": 3
   },
   "file_extension": ".py",
   "mimetype": "text/x-python",
   "name": "python",
   "nbconvert_exporter": "python",
   "pygments_lexer": "ipython3",
   "version": "3.9.13"
  }
 },
 "nbformat": 4,
 "nbformat_minor": 2
}
