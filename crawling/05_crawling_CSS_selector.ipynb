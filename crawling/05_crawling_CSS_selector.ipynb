{
 "cells": [
  {
   "cell_type": "markdown",
   "metadata": {},
   "source": [
    "## Various Crawling Techniques: CSS Selector"
   ]
  },
  {
   "cell_type": "code",
   "execution_count": 8,
   "metadata": {},
   "outputs": [
    {
     "name": "stdout",
     "output_type": "stream",
     "text": [
      "\n",
      "(beginner) - Introduction to the Class\n",
      "(beginner) - Preparing the Necessary Tools for Blog Development\n",
      "(beginner) - Setting Up GitHub Pages to Create Your First Blog Page\n",
      "(beginner) - Creating a Simple Web Page\n",
      "(beginner) - Applying a Stylish Theme\n",
      "(beginner) - Understanding Markdown Basics and Creating Your Own Blog Page\n",
      "(beginner) - Mastering Various Markdown Techniques to Customize Your Blog Page\n",
      "\n",
      "\n",
      "(Beginner) - Introduction to the Automation Programs Used by the Instructor [2]\n",
      "(Beginner) - Demonstrating the Installation of Necessary Programs [5]\n",
      "(Beginner) - Creating Data in Excel Files [9]\n",
      "(Beginner) - Beautifying Excel Files! [8]\n",
      "(Beginner) - Running Python Programs Automatically at Regular Intervals [7]\n",
      "(Beginner) - Writing Messages on Slack Using Python [40]\n",
      "(Beginner) - Checking Website Changes Periodically and Sending Alerts via Messenger [12]\n",
      "(Beginner) - Using the Naver API to Post on Blogs [42]\n",
      "(Intermediate) - Automatically Promoting Product Information Retrieved from the Coupang Partners API on Naver Blogs/Twitter [412]\n",
      "\n"
     ]
    }
   ],
   "source": [
    "import requests\n",
    "from bs4 import BeautifulSoup\n",
    "\n",
    "res = requests.get('https://kim-william.github.io/Personal_Python_Projects/crawling/testhtml/crawlingtest.html')\n",
    "soup = BeautifulSoup(res.content,'html.parser')\n",
    "items = soup.select('ul')\n",
    "for item in items:\n",
    "    print (item.get_text())"
   ]
  },
  {
   "cell_type": "code",
   "execution_count": 5,
   "metadata": {},
   "outputs": [
    {
     "name": "stdout",
     "output_type": "stream",
     "text": [
      "(beginner) - Introduction to the Class\n",
      "(beginner) - Preparing the Necessary Tools for Blog Development\n",
      "(beginner) - Setting Up GitHub Pages to Create Your First Blog Page\n",
      "(beginner) - Creating a Simple Web Page\n",
      "(beginner) - Applying a Stylish Theme\n",
      "(beginner) - Understanding Markdown Basics and Creating Your Own Blog Page\n",
      "(beginner) - Mastering Various Markdown Techniques to Customize Your Blog Page\n",
      "(Beginner) - Introduction to the Automation Programs Used by the Instructor [2]\n",
      "(Beginner) - Demonstrating the Installation of Necessary Programs [5]\n",
      "(Beginner) - Creating Data in Excel Files [9]\n",
      "(Beginner) - Beautifying Excel Files! [8]\n",
      "(Beginner) - Running Python Programs Automatically at Regular Intervals [7]\n",
      "(Beginner) - Writing Messages on Slack Using Python [40]\n",
      "(Beginner) - Checking Website Changes Periodically and Sending Alerts via Messenger [12]\n",
      "(Beginner) - Using the Naver API to Post on Blogs [42]\n",
      "(Intermediate) - Automatically Promoting Product Information Retrieved from the Coupang Partners API on Naver Blogs/Twitter [412]\n"
     ]
    }
   ],
   "source": [
    "res = requests.get('https://kim-william.github.io/Personal_Python_Projects/crawling/testhtml/crawlingtest.html')\n",
    "soup = BeautifulSoup(res.content,'html.parser')\n",
    "items = soup.select('ul li')\n",
    "for item in items:\n",
    "    print (item.get_text())"
   ]
  },
  {
   "cell_type": "code",
   "execution_count": 11,
   "metadata": {},
   "outputs": [
    {
     "name": "stdout",
     "output_type": "stream",
     "text": [
      "(beginner) - Introduction to the Class\n",
      "(beginner) - Preparing the Necessary Tools for Blog Development\n",
      "(beginner) - Setting Up GitHub Pages to Create Your First Blog Page\n",
      "(beginner) - Creating a Simple Web Page\n",
      "(beginner) - Applying a Stylish Theme\n",
      "(beginner) - Understanding Markdown Basics and Creating Your Own Blog Page\n",
      "(beginner) - Mastering Various Markdown Techniques to Customize Your Blog Page\n",
      "(Beginner) - Introduction to the Automation Programs Used by the Instructor [2]\n",
      "(Beginner) - Demonstrating the Installation of Necessary Programs [5]\n",
      "(Beginner) - Creating Data in Excel Files [9]\n",
      "(Beginner) - Beautifying Excel Files! [8]\n",
      "(Beginner) - Running Python Programs Automatically at Regular Intervals [7]\n",
      "(Beginner) - Writing Messages on Slack Using Python [40]\n",
      "(Beginner) - Checking Website Changes Periodically and Sending Alerts via Messenger [12]\n",
      "(Beginner) - Using the Naver API to Post on Blogs [42]\n",
      "(Intermediate) - Automatically Promoting Product Information Retrieved from the Coupang Partners API on Naver Blogs/Twitter [412]\n"
     ]
    }
   ],
   "source": [
    "res = requests.get('https://kim-william.github.io/Personal_Python_Projects/crawling/testhtml/crawlingtest.html')\n",
    "soup = BeautifulSoup(res.content,'html.parser')\n",
    "items = soup.select('ul a')\n",
    "for item in items:\n",
    "    print (item.get_text())"
   ]
  },
  {
   "cell_type": "code",
   "execution_count": 12,
   "metadata": {},
   "outputs": [],
   "source": [
    "res = requests.get('https://kim-william.github.io/Personal_Python_Projects/crawling/testhtml/crawlingtest.html')\n",
    "soup = BeautifulSoup(res.content,'html.parser')\n",
    "items = soup.select('ul > a')\n",
    "for item in items:\n",
    "    print (item.get_text())"
   ]
  },
  {
   "cell_type": "code",
   "execution_count": 14,
   "metadata": {},
   "outputs": [
    {
     "name": "stdout",
     "output_type": "stream",
     "text": [
      "(beginner) - Introduction to the Class\n",
      "(beginner) - Preparing the Necessary Tools for Blog Development\n",
      "(beginner) - Setting Up GitHub Pages to Create Your First Blog Page\n",
      "(beginner) - Creating a Simple Web Page\n",
      "(beginner) - Applying a Stylish Theme\n",
      "(beginner) - Understanding Markdown Basics and Creating Your Own Blog Page\n",
      "(beginner) - Mastering Various Markdown Techniques to Customize Your Blog Page\n",
      "(Beginner) - Introduction to the Automation Programs Used by the Instructor [2]\n",
      "(Beginner) - Demonstrating the Installation of Necessary Programs [5]\n",
      "(Beginner) - Creating Data in Excel Files [9]\n",
      "(Beginner) - Beautifying Excel Files! [8]\n",
      "(Beginner) - Running Python Programs Automatically at Regular Intervals [7]\n",
      "(Beginner) - Writing Messages on Slack Using Python [40]\n",
      "(Beginner) - Checking Website Changes Periodically and Sending Alerts via Messenger [12]\n",
      "(Beginner) - Using the Naver API to Post on Blogs [42]\n",
      "(Intermediate) - Automatically Promoting Product Information Retrieved from the Coupang Partners API on Naver Blogs/Twitter [412]\n"
     ]
    }
   ],
   "source": [
    "res = requests.get('https://kim-william.github.io/Personal_Python_Projects/crawling/testhtml/crawlingtest.html')\n",
    "soup = BeautifulSoup(res.content,'html.parser')\n",
    "items = soup.select('.course')\n",
    "for item in items:\n",
    "    print (item.get_text())"
   ]
  },
  {
   "cell_type": "code",
   "execution_count": 16,
   "metadata": {},
   "outputs": [
    {
     "name": "stdout",
     "output_type": "stream",
     "text": [
      "(beginner) - Introduction to the Class\n",
      "(beginner) - Preparing the Necessary Tools for Blog Development\n",
      "(beginner) - Setting Up GitHub Pages to Create Your First Blog Page\n",
      "(beginner) - Creating a Simple Web Page\n",
      "(beginner) - Applying a Stylish Theme\n",
      "(beginner) - Understanding Markdown Basics and Creating Your Own Blog Page\n",
      "(beginner) - Mastering Various Markdown Techniques to Customize Your Blog Page\n"
     ]
    }
   ],
   "source": [
    "res = requests.get('https://kim-william.github.io/Personal_Python_Projects/crawling/testhtml/crawlingtest.html')\n",
    "soup = BeautifulSoup(res.content,'html.parser')\n",
    "items = soup.select('#start')\n",
    "for item in items:\n",
    "    print (item.get_text())"
   ]
  },
  {
   "cell_type": "code",
   "execution_count": 21,
   "metadata": {},
   "outputs": [
    {
     "name": "stdout",
     "output_type": "stream",
     "text": [
      "(Intermediate) - Automatically Promoting Product Information Retrieved from the Coupang Partners API on Naver Blogs/Twitter [412]\n"
     ]
    }
   ],
   "source": [
    "res = requests.get('https://kim-william.github.io/Personal_Python_Projects/crawling/testhtml/crawlingtest.html')\n",
    "soup = BeautifulSoup(res.content,'html.parser')\n",
    "items = soup.select('li.course.paid')\n",
    "for item in items:\n",
    "    print (item.get_text())"
   ]
  },
  {
   "cell_type": "code",
   "execution_count": 4,
   "metadata": {},
   "outputs": [
    {
     "name": "stdout",
     "output_type": "stream",
     "text": [
      "(beginner) - Introduction to the Class\n",
      "(beginner) - Preparing the Necessary Tools for Blog Development\n",
      "(beginner) - Setting Up GitHub Pages to Create Your First Blog Page\n",
      "(beginner) - Creating a Simple Web Page\n",
      "(beginner) - Applying a Stylish Theme\n",
      "(beginner) - Understanding Markdown Basics and Creating Your Own Blog Page\n",
      "(beginner) - Mastering Various Markdown Techniques to Customize Your Blog Page\n"
     ]
    }
   ],
   "source": [
    "res = requests.get('https://kim-william.github.io/Personal_Python_Projects/crawling/testhtml/crawlingtest.html')\n",
    "soup = BeautifulSoup(res.content,'html.parser')\n",
    "items = soup.select('ul#hobby_course_list li.course')\n",
    "for item in items:\n",
    "    print (item.get_text())"
   ]
  }
 ],
 "metadata": {
  "kernelspec": {
   "display_name": "Python (.vppp)",
   "language": "python",
   "name": ".vppp"
  },
  "language_info": {
   "codemirror_mode": {
    "name": "ipython",
    "version": 3
   },
   "file_extension": ".py",
   "mimetype": "text/x-python",
   "name": "python",
   "nbconvert_exporter": "python",
   "pygments_lexer": "ipython3",
   "version": "3.9.20"
  }
 },
 "nbformat": 4,
 "nbformat_minor": 2
}
