{
 "cells": [
  {
   "cell_type": "markdown",
   "metadata": {},
   "source": [
    "## Various Crawling Techniques: CSS Selector"
   ]
  },
  {
   "cell_type": "code",
   "execution_count": 2,
   "metadata": {},
   "outputs": [
    {
     "name": "stdout",
     "output_type": "stream",
     "text": [
      "\n",
      "(beginner) - Introduction to the Class\n",
      "(beginner) - Preparing the Necessary Tools for Blog Development\n",
      "(beginner) - Setting Up GitHub Pages to Create Your First Blog Page\n",
      "(beginner) - Creating a Simple Web Page\n",
      "(beginner) - Applying a Stylish Theme\n",
      "(beginner) - Understanding Markdown Basics and Creating Your Own Blog Page\n",
      "(beginner) - Mastering Various Markdown Techniques to Customize Your Blog Page\n",
      "\n",
      "\n",
      "(Beginner) - Introduction to the Automation Programs [2]\n",
      "(Beginner) - Demonstrating the Installation of Necessary Programs [5]\n",
      "(Beginner) - Creating Data in Excel Files [9]\n",
      "(Beginner) - Beautifying Excel Files! [8]\n",
      "(Beginner) - Running Python Programs Automatically at Regular Intervals [7]\n",
      "(Beginner) - Writing Messages on Slack Using Python [40]\n",
      "(Beginner) - Checking Website Changes Periodically and Sending Alerts via Messenger [12]\n",
      "(Beginner) - Using the Naver API to Post on Blogs [42]\n",
      "(Intermediate) - Automatically Promoting Product Information Retrieved from the Coupang Partners API on Naver Blogs/Twitter [412]\n",
      "\n"
     ]
    }
   ],
   "source": [
    "import requests\n",
    "from bs4 import BeautifulSoup\n",
    "\n",
    "res = requests.get('https://kim-william.github.io/Personal_Python_Projects/crawling/testhtml/crawlingtest.html')\n",
    "soup = BeautifulSoup(res.content,'html.parser')\n",
    "items = soup.select('ul')\n",
    "for item in items:\n",
    "    print (item.get_text())"
   ]
  },
  {
   "cell_type": "code",
   "execution_count": 3,
   "metadata": {},
   "outputs": [
    {
     "name": "stdout",
     "output_type": "stream",
     "text": [
      "(beginner) - Introduction to the Class\n",
      "(beginner) - Preparing the Necessary Tools for Blog Development\n",
      "(beginner) - Setting Up GitHub Pages to Create Your First Blog Page\n",
      "(beginner) - Creating a Simple Web Page\n",
      "(beginner) - Applying a Stylish Theme\n",
      "(beginner) - Understanding Markdown Basics and Creating Your Own Blog Page\n",
      "(beginner) - Mastering Various Markdown Techniques to Customize Your Blog Page\n",
      "(Beginner) - Introduction to the Automation Programs [2]\n",
      "(Beginner) - Demonstrating the Installation of Necessary Programs [5]\n",
      "(Beginner) - Creating Data in Excel Files [9]\n",
      "(Beginner) - Beautifying Excel Files! [8]\n",
      "(Beginner) - Running Python Programs Automatically at Regular Intervals [7]\n",
      "(Beginner) - Writing Messages on Slack Using Python [40]\n",
      "(Beginner) - Checking Website Changes Periodically and Sending Alerts via Messenger [12]\n",
      "(Beginner) - Using the Naver API to Post on Blogs [42]\n",
      "(Intermediate) - Automatically Promoting Product Information Retrieved from the Coupang Partners API on Naver Blogs/Twitter [412]\n"
     ]
    }
   ],
   "source": [
    "res = requests.get('https://kim-william.github.io/Personal_Python_Projects/crawling/testhtml/crawlingtest.html')\n",
    "soup = BeautifulSoup(res.content,'html.parser')\n",
    "items = soup.select('ul li')\n",
    "for item in items:\n",
    "    print (item.get_text())"
   ]
  },
  {
   "cell_type": "code",
   "execution_count": 4,
   "metadata": {},
   "outputs": [
    {
     "name": "stdout",
     "output_type": "stream",
     "text": [
      "(beginner) - Introduction to the Class\n",
      "(beginner) - Preparing the Necessary Tools for Blog Development\n",
      "(beginner) - Setting Up GitHub Pages to Create Your First Blog Page\n",
      "(beginner) - Creating a Simple Web Page\n",
      "(beginner) - Applying a Stylish Theme\n",
      "(beginner) - Understanding Markdown Basics and Creating Your Own Blog Page\n",
      "(beginner) - Mastering Various Markdown Techniques to Customize Your Blog Page\n",
      "(Beginner) - Introduction to the Automation Programs [2]\n",
      "(Beginner) - Demonstrating the Installation of Necessary Programs [5]\n",
      "(Beginner) - Creating Data in Excel Files [9]\n",
      "(Beginner) - Beautifying Excel Files! [8]\n",
      "(Beginner) - Running Python Programs Automatically at Regular Intervals [7]\n",
      "(Beginner) - Writing Messages on Slack Using Python [40]\n",
      "(Beginner) - Checking Website Changes Periodically and Sending Alerts via Messenger [12]\n",
      "(Beginner) - Using the Naver API to Post on Blogs [42]\n",
      "(Intermediate) - Automatically Promoting Product Information Retrieved from the Coupang Partners API on Naver Blogs/Twitter [412]\n"
     ]
    }
   ],
   "source": [
    "res = requests.get('https://kim-william.github.io/Personal_Python_Projects/crawling/testhtml/crawlingtest.html')\n",
    "soup = BeautifulSoup(res.content,'html.parser')\n",
    "items = soup.select('ul a')\n",
    "for item in items:\n",
    "    print (item.get_text())"
   ]
  },
  {
   "cell_type": "code",
   "execution_count": 27,
   "metadata": {},
   "outputs": [],
   "source": [
    "res = requests.get('https://kim-william.github.io/Personal_Python_Projects/crawling/testhtml/crawlingtest.html')\n",
    "soup = BeautifulSoup(res.content,'html.parser')\n",
    "items = soup.select('ul > a')\n",
    "for item in items:\n",
    "    print (item.get_text())"
   ]
  },
  {
   "cell_type": "code",
   "execution_count": 6,
   "metadata": {},
   "outputs": [
    {
     "name": "stdout",
     "output_type": "stream",
     "text": [
      "(beginner) - Introduction to the Class\n",
      "(beginner) - Preparing the Necessary Tools for Blog Development\n",
      "(beginner) - Setting Up GitHub Pages to Create Your First Blog Page\n",
      "(beginner) - Creating a Simple Web Page\n",
      "(beginner) - Applying a Stylish Theme\n",
      "(beginner) - Understanding Markdown Basics and Creating Your Own Blog Page\n",
      "(beginner) - Mastering Various Markdown Techniques to Customize Your Blog Page\n",
      "(Beginner) - Introduction to the Automation Programs [2]\n",
      "(Beginner) - Demonstrating the Installation of Necessary Programs [5]\n",
      "(Beginner) - Creating Data in Excel Files [9]\n",
      "(Beginner) - Beautifying Excel Files! [8]\n",
      "(Beginner) - Running Python Programs Automatically at Regular Intervals [7]\n",
      "(Beginner) - Writing Messages on Slack Using Python [40]\n",
      "(Beginner) - Checking Website Changes Periodically and Sending Alerts via Messenger [12]\n",
      "(Beginner) - Using the Naver API to Post on Blogs [42]\n",
      "(Intermediate) - Automatically Promoting Product Information Retrieved from the Coupang Partners API on Naver Blogs/Twitter [412]\n"
     ]
    }
   ],
   "source": [
    "res = requests.get('https://kim-william.github.io/Personal_Python_Projects/crawling/testhtml/crawlingtest.html')\n",
    "soup = BeautifulSoup(res.content,'html.parser')\n",
    "items = soup.select('.course')\n",
    "for item in items:\n",
    "    print (item.get_text())"
   ]
  },
  {
   "cell_type": "code",
   "execution_count": 7,
   "metadata": {},
   "outputs": [
    {
     "name": "stdout",
     "output_type": "stream",
     "text": [
      "(beginner) - Introduction to the Class\n",
      "(beginner) - Preparing the Necessary Tools for Blog Development\n",
      "(beginner) - Setting Up GitHub Pages to Create Your First Blog Page\n",
      "(beginner) - Creating a Simple Web Page\n",
      "(beginner) - Applying a Stylish Theme\n",
      "(beginner) - Understanding Markdown Basics and Creating Your Own Blog Page\n",
      "(beginner) - Mastering Various Markdown Techniques to Customize Your Blog Page\n"
     ]
    }
   ],
   "source": [
    "res = requests.get('https://kim-william.github.io/Personal_Python_Projects/crawling/testhtml/crawlingtest.html')\n",
    "soup = BeautifulSoup(res.content,'html.parser')\n",
    "items = soup.select('#start')\n",
    "for item in items:\n",
    "    print (item.get_text())"
   ]
  },
  {
   "cell_type": "code",
   "execution_count": 8,
   "metadata": {},
   "outputs": [
    {
     "name": "stdout",
     "output_type": "stream",
     "text": [
      "(Intermediate) - Automatically Promoting Product Information Retrieved from the Coupang Partners API on Naver Blogs/Twitter [412]\n"
     ]
    }
   ],
   "source": [
    "res = requests.get('https://kim-william.github.io/Personal_Python_Projects/crawling/testhtml/crawlingtest.html')\n",
    "soup = BeautifulSoup(res.content,'html.parser')\n",
    "items = soup.select('li.course.paid')\n",
    "for item in items:\n",
    "    print (item.get_text())"
   ]
  },
  {
   "cell_type": "code",
   "execution_count": 9,
   "metadata": {},
   "outputs": [
    {
     "name": "stdout",
     "output_type": "stream",
     "text": [
      "(beginner) - Introduction to the Class\n",
      "(beginner) - Preparing the Necessary Tools for Blog Development\n",
      "(beginner) - Setting Up GitHub Pages to Create Your First Blog Page\n",
      "(beginner) - Creating a Simple Web Page\n",
      "(beginner) - Applying a Stylish Theme\n",
      "(beginner) - Understanding Markdown Basics and Creating Your Own Blog Page\n",
      "(beginner) - Mastering Various Markdown Techniques to Customize Your Blog Page\n"
     ]
    }
   ],
   "source": [
    "res = requests.get('https://kim-william.github.io/Personal_Python_Projects/crawling/testhtml/crawlingtest.html')\n",
    "soup = BeautifulSoup(res.content,'html.parser')\n",
    "# The selector ul#hobby_course_list li.course is used to select all <li> tags with the class \"course\" within the <ul> tag that has the ID \"hobby_course_list\". \n",
    "# This retrieves multiple elements.\n",
    "items = soup.select('ul#hobby_course_list li.course')\n",
    "for item in items:\n",
    "    print (item.get_text())"
   ]
  },
  {
   "cell_type": "code",
   "execution_count": 12,
   "metadata": {},
   "outputs": [
    {
     "name": "stdout",
     "output_type": "stream",
     "text": [
      "(Intermediate) - Automatically Promoting Product Information Retrieved from the Coupang Partners API on Naver Blogs/Twitter [412]\n"
     ]
    }
   ],
   "source": [
    "res = requests.get('https://kim-william.github.io/Personal_Python_Projects/crawling/testhtml/crawlingtest.html')\n",
    "soup = BeautifulSoup(res.content,'html.parser')\n",
    "# The selector ul#dev_course_list > li.course.paid is used to select the first <li> tag with the classes \"course paid\" within the <ul> tag that has the ID \"dev_course_list\". \n",
    "# The select_one() method returns only one element.\n",
    "item = soup.select_one('ul#dev_course_list > li.course.paid')\n",
    "print (item.get_text())"
   ]
  },
  {
   "cell_type": "markdown",
   "metadata": {},
   "source": [
    "Objects retrieved using find() or select() can have additional select() or find() functions applied to them."
   ]
  },
  {
   "cell_type": "code",
   "execution_count": 26,
   "metadata": {},
   "outputs": [
    {
     "name": "stdout",
     "output_type": "stream",
     "text": [
      "Schedule,Curriculum Title,Difficulty Level\n",
      "5.1 ~ 6.15,Creating Your Own Stylish Blog Site,Beginner\n",
      "6.16 ~ 7.31,First Steps in Python and Data Science (Mastering IT Fundamentals),Intermediate\n"
     ]
    }
   ],
   "source": [
    "res = requests.get('https://kim-william.github.io/Personal_Python_Projects/crawling/testhtml/crawlingtest.html')\n",
    "soup = BeautifulSoup(res.content,'html.parser')\n",
    "# Select all <tr> tags (table rows) from the parsed HTML\n",
    "items = soup.select('tr')\n",
    "for tr in items:\n",
    "    # Find all <td> tags (table columns) within the current row\n",
    "    columns = tr.find_all('td')\n",
    "    row_str = ''\n",
    "    # Loop through each column in the current row\n",
    "    for colum in columns:\n",
    "        # Append the text content of the column to the row string, prefixed with a comma\n",
    "        row_str += f',{colum.get_text()}'\n",
    "    # Remove the leading comma and print the final row string\n",
    "    print (row_str.strip(', ')) \n",
    "    \n",
    "    # Alternative way to remove the first two characters (comma and space)\n",
    "    # print (row_str[2:]) "
   ]
  }
 ],
 "metadata": {
  "kernelspec": {
   "display_name": "Python (.vppp)",
   "language": "python",
   "name": ".vppp"
  },
  "language_info": {
   "codemirror_mode": {
    "name": "ipython",
    "version": 3
   },
   "file_extension": ".py",
   "mimetype": "text/x-python",
   "name": "python",
   "nbconvert_exporter": "python",
   "pygments_lexer": "ipython3",
   "version": "3.9.20"
  }
 },
 "nbformat": 4,
 "nbformat_minor": 2
}
