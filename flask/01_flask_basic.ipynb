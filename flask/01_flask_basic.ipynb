{
 "cells": [
  {
   "cell_type": "code",
   "execution_count": 1,
   "metadata": {},
   "outputs": [
    {
     "name": "stdout",
     "output_type": "stream",
     "text": [
      "Requirement already satisfied: Flask in /home/woong/ppp/.vppp/lib/python3.9/site-packages (3.1.0)\n",
      "Requirement already satisfied: Werkzeug>=3.1 in /home/woong/ppp/.vppp/lib/python3.9/site-packages (from Flask) (3.1.3)\n",
      "Requirement already satisfied: Jinja2>=3.1.2 in /home/woong/ppp/.vppp/lib/python3.9/site-packages (from Flask) (3.1.4)\n",
      "Requirement already satisfied: itsdangerous>=2.2 in /home/woong/ppp/.vppp/lib/python3.9/site-packages (from Flask) (2.2.0)\n",
      "Requirement already satisfied: click>=8.1.3 in /home/woong/ppp/.vppp/lib/python3.9/site-packages (from Flask) (8.1.8)\n",
      "Requirement already satisfied: blinker>=1.9 in /home/woong/ppp/.vppp/lib/python3.9/site-packages (from Flask) (1.9.0)\n",
      "Requirement already satisfied: importlib-metadata>=3.6 in /home/woong/ppp/.vppp/lib/python3.9/site-packages (from Flask) (8.5.0)\n",
      "Requirement already satisfied: zipp>=3.20 in /home/woong/ppp/.vppp/lib/python3.9/site-packages (from importlib-metadata>=3.6->Flask) (3.21.0)\n",
      "Requirement already satisfied: MarkupSafe>=2.0 in /home/woong/ppp/.vppp/lib/python3.9/site-packages (from Jinja2>=3.1.2->Flask) (3.0.2)\n"
     ]
    }
   ],
   "source": [
    "!pip install Flask"
   ]
  },
  {
   "cell_type": "code",
   "execution_count": 2,
   "metadata": {},
   "outputs": [
    {
     "name": "stdout",
     "output_type": "stream",
     "text": [
      "__main__\n"
     ]
    }
   ],
   "source": [
    "from flask import Flask\n",
    "app = Flask(__name__)\n",
    "print(__name__)"
   ]
  },
  {
   "attachments": {
    "image-2.png": {
     "image/png": "[encoded data removed]"
    },
    "image.png": {
     "image/png": "[encoded data removed]"
    }
   },
   "cell_type": "markdown",
   "metadata": {},
   "source": [
    "### 1. What is '\\_\\_name\\_\\_'?\n",
    "\\_\\_name\\_\\_ is a built-in variable in Python that indicates the name of the module.<br>\n",
    "* When the file is executed directly, the value of \\_\\_name\\_\\_ is set to \"\\_\\_main\\_\\_\".<br>\n",
    "![image-2.png](attachment:image-2.png)\n",
    "<br>\n",
    "<br>\n",
    "* When the file is imported as a module, the value of __name__ is set to the name of the module (usually the filename without the .py extension).\n",
    "![image.png](attachment:image.png)"
   ]
  },
  {
   "cell_type": "markdown",
   "metadata": {},
   "source": [
    "#### 1.1 When is it used?\n",
    "* Entry Point for Scripts: Used in if __name__ == \"__main__\": to ensure certain code runs only when the script is executed directly, not when imported as a module.\n",
    "* Testing and Debugging: Allows writing test or debugging code in a module that executes only when the module is run directly."
   ]
  },
  {
   "cell_type": "markdown",
   "metadata": {},
   "source": [
    "#### 1.2 Entry Point\n",
    "Languages like C#, Java, C, and C++ have a defined entry point, where the program starts execution from a specific main function."
   ]
  },
  {
   "cell_type": "markdown",
   "metadata": {},
   "source": [
    "#### 1.3 Python's Entry Point\n",
    "Python, as a scripting language, does not have a traditional entry point.<br>\n",
    "It starts execution from the first line of the script being run.<br>\n",
    "However, the if __name__ == \"__main__\": statement allows implementing functionality similar to an entry point."
   ]
  },
  {
   "cell_type": "markdown",
   "metadata": {},
   "source": [
    "### 2. Routing\n",
    "#### 2.1. What is a URL?\n",
    "Uniform Resource Locator<br> A convention for specifying the location of a resource on the internet.<br> One of the main components of the World Wide Web: HTML, URL, HTTP.<br>\n",
    "\n",
    "#### Reference: URL vs URI\n",
    "URI (Uniform Resource Identifier): A general identifier for a resource.<br> A URL is a specific type of URI.<br> \n",
    "* For example, \"https://www.google.com\" is both a URL and a URI representing the google server.\n",
    "* However, in \"https://www.google.com/input?id=kim&pw=1111\", \"https://www.google.com/input\" is a URL, \n",
    "<br>while \"https://www.google.com/input?id=kim&pw=1111\" is a URI because it includes the identifier \"?id=kim&pw=1111\" required to retrieve specific information.\n",
    "\n",
    "#### 2.2. What is Routing?\n",
    "A function that directs to the appropriate destination.<br> Routing connects a URL to the function that handles that URL.<br>\n",
    "* Example: \"http://www.woongkeol.com/Blogs?urlHandle=CSharp\"\n",
    "* On the server \"http://www.woongkeol.com\", it calls the function associated with the Blogs destination (where \"?urlHandle=CSharp\" is passed as a parameter to the function)."
   ]
  },
  {
   "cell_type": "code",
   "execution_count": 3,
   "metadata": {},
   "outputs": [],
   "source": [
    "# Route for the URL '/hello'\n",
    "@app.route(\"/hello\")  \n",
    "def hello():\n",
    "    # Returns 'Hello World!' as an HTML heading\n",
    "    return \"<h1>Hello World!</h1>\"  "
   ]
  },
  {
   "cell_type": "markdown",
   "metadata": {},
   "source": [
    "In the code above, @ is called a decorator (which will be explained separately)."
   ]
  },
  {
   "cell_type": "markdown",
   "metadata": {},
   "source": [
    "### 3. Running the Flask Web Server as the Main Module\n",
    "The server can be started using the app.run() function.<br> You can configure the IP and port for the server by passing them as options.<br>\n",
    "* The most commonly used parameters are host, port, and debug.\n",
    "* host: Specifies the web address (e.g., '127.0.0.1' or '0.0.0.0').\n",
    "* port: Specifies the port number (e.g., 5000).\n",
    "* debug: A boolean parameter (True or False) that enables or disables debug mode. <br>When enabled, it automatically reloads the server when code changes and provides detailed error messages in the browser.\n",
    "\n",
    "Example: app.run(host=None, port=None, debug=True)<br>\n",
    "\n",
    "#### Additional Information:\n",
    "* When host is set to None, Flask will use the default 127.0.0.1 (localhost).\n",
    "* If host is set to '0.0.0.0', the app will be accessible from any machine in the network (not just locally).\n",
    "* When debug=True, Flask will run in debug mode, which is helpful for development as it shows detailed error logs and enables live reloading when changes are made to the code."
   ]
  },
  {
   "cell_type": "markdown",
   "metadata": {},
   "source": [
    "#### 3.1 Web Server and WAS Framework\n",
    "A web server primarily handles static HTML pages.\n",
    "* It processes client requests and returns static data, such as HTML, CSS, or image files.\n",
    "\n",
    "To handle dynamic content or interactive features, a WAS (Web Application Server) framework is required.\n",
    "* Major WAS frameworks include Flask, Django, Ruby on Rails, Node.js, and others.\n",
    "\n",
    "※ For production environments, it is recommended to use a dedicated and professional web server (e.g., Nginx, Apache) \n",
    "<br>in conjunction with a WAS framework. However, Flask provides a basic built-in web server for development and testing purposes with simple commands."
   ]
  },
  {
   "cell_type": "markdown",
   "metadata": {},
   "source": [
    "### 4. Development Process  \n",
    "Implementing a web service on your own PC:  \n",
    "* Set the Host to `localhost`, `127.0.0.1`, or `0.0.0.0`.  \n",
    "* Use the `app.run()` function to run a built-in web server.  "
   ]
  },
  {
   "cell_type": "code",
   "execution_count": 4,
   "metadata": {},
   "outputs": [
    {
     "name": "stdout",
     "output_type": "stream",
     "text": [
      " * Serving Flask app '__main__'\n",
      " * Debug mode: off\n"
     ]
    },
    {
     "name": "stderr",
     "output_type": "stream",
     "text": [
      "\u001b[31m\u001b[1mWARNING: This is a development server. Do not use it in a production deployment. Use a production WSGI server instead.\u001b[0m\n",
      " * Running on all addresses (0.0.0.0)\n",
      " * Running on http://127.0.0.1:8080\n",
      " * Running on http://172.22.109.123:8080\n",
      "\u001b[33mPress CTRL+C to quit\u001b[0m\n"
     ]
    }
   ],
   "source": [
    "# Host address to bind the web server\n",
    "host_addr = \"0.0.0.0\"  \n",
    "# Port number to run the web server\n",
    "port_num = \"8080\"      \n",
    "# Entry point of the application\n",
    "if __name__ == \"__main__\":  \n",
    "    # Start the web server\n",
    "    app.run(host=host_addr, port=port_num)  "
   ]
  },
  {
   "cell_type": "code",
   "execution_count": 10,
   "metadata": {},
   "outputs": [
    {
     "name": "stdout",
     "output_type": "stream",
     "text": [
      " * Serving Flask app '__main__'\n",
      " * Debug mode: off\n"
     ]
    },
    {
     "name": "stderr",
     "output_type": "stream",
     "text": [
      "\u001b[31m\u001b[1mWARNING: This is a development server. Do not use it in a production deployment. Use a production WSGI server instead.\u001b[0m\n",
      " * Running on http://127.0.0.1:8080\n",
      "\u001b[33mPress CTRL+C to quit\u001b[0m\n",
      "127.0.0.1 - - [29/Dec/2024 20:53:48] \"\u001b[33mGET / HTTP/1.1\u001b[0m\" 404 -\n",
      "127.0.0.1 - - [29/Dec/2024 20:54:43] \"GET /hello HTTP/1.1\" 200 -\n",
      "127.0.0.1 - - [29/Dec/2024 20:55:17] \"GET /hello HTTP/1.1\" 200 -\n",
      "127.0.0.1 - - [29/Dec/2024 20:55:19] \"GET /hello HTTP/1.1\" 200 -\n"
     ]
    },
    {
     "name": "stderr",
     "output_type": "stream",
     "text": [
      "127.0.0.1 - - [29/Dec/2024 20:55:26] \"GET /hello HTTP/1.1\" 200 -\n"
     ]
    }
   ],
   "source": [
    "# Full Base Code\n",
    "from flask import Flask\n",
    "app = Flask(__name__)\n",
    "# Route for the URL '/hello'\n",
    "@app.route(\"/hello\")  \n",
    "def hello():\n",
    "    # Returns 'Hello World!' as an HTML heading\n",
    "    return \"<h1>Hello World!</h1>\"  \n",
    "\n",
    "# Host address to bind the web server\n",
    "host_addr = \"127.0.0.1\"  \n",
    "# Port number to run the web server\n",
    "port_num = \"8080\"      \n",
    "# Entry point of the application\n",
    "if __name__ == \"__main__\":  \n",
    "    # Start the web server\n",
    "    app.run(host=host_addr, port=port_num)  "
   ]
  }
 ],
 "metadata": {
  "kernelspec": {
   "display_name": "Python (.vppp)",
   "language": "python",
   "name": ".vppp"
  },
  "language_info": {
   "codemirror_mode": {
    "name": "ipython",
    "version": 3
   },
   "file_extension": ".py",
   "mimetype": "text/x-python",
   "name": "python",
   "nbconvert_exporter": "python",
   "pygments_lexer": "ipython3",
   "version": "3.9.20"
  }
 },
 "nbformat": 4,
 "nbformat_minor": 2
}
