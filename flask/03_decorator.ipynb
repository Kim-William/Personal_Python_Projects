{
 "cells": [
  {
   "cell_type": "markdown",
   "metadata": {},
   "source": [
    "### 1. Decorator\n",
    "A technique that allows adding functionality before or after a function to enhance its usability.  \n",
    "* Utilizes Closure functions.  \n",
    "* Reference: https://www.python.org/dev/peps/pep-0318/\n",
    "\n",
    "Example: In the code below, the `@decorator_func` part is the decorator.\n",
    "<pre>\n",
    "@decorator_func\n",
    "def function():\n",
    "    print(\"what is decorator?\")\n",
    "</pre>"
   ]
  },
  {
   "cell_type": "code",
   "execution_count": 3,
   "metadata": {},
   "outputs": [
    {
     "name": "stdout",
     "output_type": "stream",
     "text": [
      "Kim has logged in\n"
     ]
    }
   ],
   "source": [
    "def logger_login():\n",
    "    print('Kim has logged in')\n",
    "\n",
    "logger_login()"
   ]
  },
  {
   "cell_type": "code",
   "execution_count": 4,
   "metadata": {},
   "outputs": [
    {
     "name": "stdout",
     "output_type": "stream",
     "text": [
      "2024-12-30 20:28:26.227787\n",
      "Kim has logged in\n",
      "2024-12-30 20:28:26.227821\n"
     ]
    }
   ],
   "source": [
    "# Add timestamps before and after the log.\n",
    "import datetime\n",
    "\n",
    "def logger_login():\n",
    "    print(datetime.datetime.now())\n",
    "    print('Kim has logged in')\n",
    "    print(datetime.datetime.now())\n",
    "\n",
    "logger_login()"
   ]
  },
  {
   "cell_type": "markdown",
   "metadata": {},
   "source": [
    "### 2. When to Use a Decorator?  \n",
    "When you want to add the same functionality to similar functions, like `logger_logout` and `logger_login`."
   ]
  },
  {
   "cell_type": "code",
   "execution_count": 5,
   "metadata": {},
   "outputs": [
    {
     "name": "stdout",
     "output_type": "stream",
     "text": [
      "Kim has logged out\n"
     ]
    }
   ],
   "source": [
    "# When you want to add timestamps to similar functions like this:\n",
    "def logger_logout():\n",
    "    print('Kim has logged out')"
   ]
  },
  {
   "cell_type": "markdown",
   "metadata": {},
   "source": [
    "### 3. How to Define a Decorator  \n",
    "<pre>\n",
    "def decorator_name(target_function):\n",
    "    def wrapper():\n",
    "        # Code to execute before the target function\n",
    "        target_function()  # Execute the target function\n",
    "        # Code to execute after the target function\n",
    "    Return the wrapper as a closure function\n",
    "</pre>  "
   ]
  },
  {
   "cell_type": "code",
   "execution_count": 14,
   "metadata": {},
   "outputs": [],
   "source": [
    "# Defining a decorator\n",
    "# datetime_decorator is the name of the decorator, and func is the function to be wrapped\n",
    "def datetime_decorator(func):           \n",
    "    # A function that wraps the target function\n",
    "    def wrapper():                      \n",
    "        # Code to execute before the target function \n",
    "        print(f'start time: {datetime.datetime.now()}') \n",
    "        # Target function\n",
    "        func()                 \n",
    "        # Code to execute after the target function \n",
    "        print(f'end time: {datetime.datetime.now()}') \n",
    "    # Return as a closure function\n",
    "    return wrapper                      \n"
   ]
  },
  {
   "cell_type": "code",
   "execution_count": 15,
   "metadata": {},
   "outputs": [
    {
     "name": "stdout",
     "output_type": "stream",
     "text": [
      "start time: 2024-12-30 20:36:28.009713\n",
      "Kim has logged in\n",
      "end time: 2024-12-30 20:36:28.009748\n",
      "start time: 2024-12-30 20:36:28.009776\n",
      "Kim has logged out\n",
      "end time: 2024-12-30 20:36:28.009781\n"
     ]
    }
   ],
   "source": [
    "# Using the decorator\n",
    "@datetime_decorator    \n",
    "def logger_login():\n",
    "     print (\"Kim has logged in\")\n",
    "\n",
    "logger_login()\n",
    "\n",
    "@datetime_decorator    \n",
    "def logger_logout():\n",
    "     print (\"Kim has logged out\")\n",
    "\n",
    "logger_logout()"
   ]
  },
  {
   "cell_type": "markdown",
   "metadata": {},
   "source": [
    "### 4. Comparison with Nested Functions and Closure Functions"
   ]
  },
  {
   "cell_type": "code",
   "execution_count": 20,
   "metadata": {},
   "outputs": [],
   "source": [
    "# Define a Decorator\n",
    "def outer_func(function):\n",
    "    def inner_func():\n",
    "        print('decoration added')\n",
    "        function()\n",
    "    return inner_func"
   ]
  },
  {
   "cell_type": "markdown",
   "metadata": {},
   "source": [
    "#### 4.1. Nasted function and Closure function"
   ]
  },
  {
   "cell_type": "code",
   "execution_count": 21,
   "metadata": {},
   "outputs": [
    {
     "name": "stdout",
     "output_type": "stream",
     "text": [
      "decoration added\n",
      "logging\n"
     ]
    }
   ],
   "source": [
    "# decorating할 함수\n",
    "def log_func():\n",
    "    print('logging')\n",
    "    \n",
    "# log_func 함수에 inner_func 함수의 기능을 추가한 decorated_func 함수\n",
    "decorated_func = outer_func(log_func)\n",
    "decorated_func()  # <--- 결과는 데코레이터를 사용할 때와 동일함"
   ]
  },
  {
   "cell_type": "markdown",
   "metadata": {},
   "source": [
    "#### 4.2. Decorator"
   ]
  },
  {
   "cell_type": "code",
   "execution_count": 22,
   "metadata": {},
   "outputs": [
    {
     "name": "stdout",
     "output_type": "stream",
     "text": [
      "decoration added\n",
      "logging\n"
     ]
    }
   ],
   "source": [
    "@outer_func\n",
    "def log_func():\n",
    "    print('logging')\n",
    "\n",
    "log_func()"
   ]
  },
  {
   "cell_type": "markdown",
   "metadata": {},
   "source": [
    "### 5. Applying a Decorator to a Function with Parameters  \n",
    "The nested function should have the same parameters as the function being decorated."
   ]
  },
  {
   "cell_type": "markdown",
   "metadata": {},
   "source": [
    "Add validation functionality to the following `divide` function:  \n",
    "<pre>\n",
    "def divide(digit1, digit2):\n",
    "    print(digit1 / digit2)\n",
    "</pre>  "
   ]
  },
  {
   "cell_type": "code",
   "execution_count": 70,
   "metadata": {},
   "outputs": [
    {
     "name": "stdout",
     "output_type": "stream",
     "text": [
      "2.0\n",
      "cannot be divided by zero\n"
     ]
    }
   ],
   "source": [
    "# Define a decorator\n",
    "def validation(function):\n",
    "    def inner_func(digit1, digit2):\n",
    "        # Simple validation for division\n",
    "        if digit2 == 0:                      \n",
    "            print('cannot be divided by zero')\n",
    "            return\n",
    "        function(digit1, digit2)\n",
    "    return inner_func\n",
    "\n",
    "# Use the decorator (validation check)\n",
    "@validation\n",
    "def divide(digit1, digit2):\n",
    "    print(digit1 / digit2)\n",
    "    \n",
    "divide(4, 2)\n",
    "divide(9, 0)\n"
   ]
  },
  {
   "cell_type": "code",
   "execution_count": 28,
   "metadata": {},
   "outputs": [
    {
     "name": "stdout",
     "output_type": "stream",
     "text": [
      "6\n",
      "1st param is not 'int' tpye.\n",
      "2nd param is not 'int' tpye.\n",
      "None\n",
      "2nd param is not 'int' tpye.\n",
      "None\n"
     ]
    }
   ],
   "source": [
    "def type_checker(func):\n",
    "    def inner_func(digit1, digit2):\n",
    "        val = True\n",
    "        if (type(digit1)!=int):\n",
    "            val = False\n",
    "            print(\"1st param is not 'int' tpye.\")\n",
    "        if (type(digit2)!=int):\n",
    "            val = False\n",
    "            print(\"2nd param is not 'int' tpye.\")\n",
    "        if not val:\n",
    "            return\n",
    "        return func(digit1, digit2)\n",
    "    return inner_func\n",
    "\n",
    "@type_checker\n",
    "def multiply_int(digit1, digit2):\n",
    "    return digit1 * digit2\n",
    "\n",
    "print(multiply_int(3,2))\n",
    "print(multiply_int(0.3, 0.4))"
   ]
  },
  {
   "cell_type": "markdown",
   "metadata": {},
   "source": [
    "### 6. Creating a Universal Decorator Applicable to Any Function  \n",
    "Parameters can ultimately be represented as (*args, **kwargs).<br>  \n",
    "If the inner function of the decorator is written with (*args, **kwargs), the decorator can be applied to any function."
   ]
  },
  {
   "cell_type": "code",
   "execution_count": 29,
   "metadata": {},
   "outputs": [],
   "source": [
    "# Define a decorator\n",
    "def general_decorator(function):\n",
    "    def wrapper(*args, **kwargs):\n",
    "        print('function is decorated')\n",
    "        return function(*args, **kwargs)\n",
    "    return wrapper"
   ]
  },
  {
   "cell_type": "code",
   "execution_count": 34,
   "metadata": {},
   "outputs": [],
   "source": [
    "# Use the decorator\n",
    "@general_decorator\n",
    "def calc_square(digit):\n",
    "    return digit * digit\n",
    "\n",
    "# Use the decorator\n",
    "@general_decorator\n",
    "def calc_plus(digit1, digit2):\n",
    "    return digit1 + digit2\n",
    "\n",
    "# Use the decorator\n",
    "@general_decorator\n",
    "def calc_quad(digit1, digit2, digit3, digit4):\n",
    "    return digit1 * digit2 * digit3 * digit4"
   ]
  },
  {
   "cell_type": "code",
   "execution_count": 35,
   "metadata": {},
   "outputs": [
    {
     "name": "stdout",
     "output_type": "stream",
     "text": [
      "function is decorated\n",
      "4\n",
      "function is decorated\n",
      "5\n",
      "function is decorated\n",
      "120\n"
     ]
    }
   ],
   "source": [
    "# Call the methods with appropriate arguments\n",
    "print (calc_square(2))\n",
    "print (calc_plus(2, 3))\n",
    "print (calc_quad(2, 3, 4, 5))"
   ]
  },
  {
   "cell_type": "markdown",
   "metadata": {},
   "source": [
    "### 7. Assigning Multiple Decorators to a Function  \n",
    "Multiple decorators can be assigned to a function (simply write multiple `@decorator` lines).<br>  \n",
    "Decorators are executed in the order they are listed."
   ]
  },
  {
   "cell_type": "code",
   "execution_count": 49,
   "metadata": {},
   "outputs": [],
   "source": [
    "# Define multiple decorators\n",
    "def decorator1(func):\n",
    "    def wrapper():\n",
    "        print('Hello!')\n",
    "        func()\n",
    "    return wrapper\n",
    " \n",
    "def decorator2(func):\n",
    "    def wrapper():\n",
    "        print('My name is WoongKeol Kim!')\n",
    "        func()\n",
    "    return wrapper"
   ]
  },
  {
   "cell_type": "code",
   "execution_count": 50,
   "metadata": {},
   "outputs": [
    {
     "name": "stdout",
     "output_type": "stream",
     "text": [
      "Hello!\n",
      "My name is WoongKeol Kim!\n",
      "I am SW developer!\n"
     ]
    }
   ],
   "source": [
    "# Apply multiple decorators to a function at once\n",
    "@decorator1\n",
    "@decorator2\n",
    "def Introduce():\n",
    "    print('I am SW developer!')\n",
    "\n",
    "Introduce()"
   ]
  },
  {
   "cell_type": "code",
   "execution_count": 55,
   "metadata": {},
   "outputs": [
    {
     "name": "stdout",
     "output_type": "stream",
     "text": [
      "<b><i>Hi</i></b>\n",
      "<b>Hi</b>\n",
      "<i>Hi</i>\n"
     ]
    }
   ],
   "source": [
    "def mark_bold(func):\n",
    "    def wrapper(*args, **kwargs):\n",
    "        return f'<b>{func(*args, **kwargs)}</b>'\n",
    "    return wrapper\n",
    "\n",
    "def mark_italic(func):\n",
    "    def wrapper(*args, **kwargs):\n",
    "        return f'<i>{func(*args, **kwargs)}</i>'\n",
    "    return wrapper\n",
    "\n",
    "@mark_bold\n",
    "@mark_italic\n",
    "def create_html_markup(content):\n",
    "    return content\n",
    "\n",
    "print (create_html_markup('Hi'))\n",
    "\n",
    "\n",
    "@mark_bold\n",
    "def create_html_markup(content):\n",
    "    return content\n",
    "\n",
    "print (create_html_markup('Hi'))\n",
    "\n",
    "\n",
    "@mark_italic\n",
    "def create_html_markup(content):\n",
    "    return content\n",
    "\n",
    "print (create_html_markup('Hi'))"
   ]
  },
  {
   "cell_type": "code",
   "execution_count": 68,
   "metadata": {},
   "outputs": [
    {
     "data": {
      "text/html": [
       "<b><i>Hi</i></b>\n",
       "<b>Hi</b>\n",
       "<i>Hi</i>\n"
      ],
      "text/plain": [
       "<IPython.core.display.HTML object>"
      ]
     },
     "metadata": {},
     "output_type": "display_data"
    }
   ],
   "source": [
    "%%html\n",
    "<b><i>Hi</i></b>\n",
    "<b>Hi</b>\n",
    "<i>Hi</i>"
   ]
  },
  {
   "cell_type": "markdown",
   "metadata": {},
   "source": [
    "### 8. Using Decorators with Class Methods  \n",
    "Decorators can be applied to methods within a class.  \n",
    "  * When applying a decorator to a class method, the `self` parameter must be included as the first argument in both the method and the decorator's inner function.  "
   ]
  },
  {
   "cell_type": "code",
   "execution_count": 58,
   "metadata": {},
   "outputs": [
    {
     "name": "stdout",
     "output_type": "stream",
     "text": [
      "<h1>WoongKeol Kim</h1>\n"
     ]
    }
   ],
   "source": [
    "# Define a decorator\n",
    "def h1_tag(function):\n",
    "    # The inner function must include 'self' as the first parameter to apply the decorator to a class method\n",
    "    def func_wrapper(self, *args, **kwargs):            \n",
    "        # Add <h1> tags to the return value of the target method\n",
    "        return \"<h1>{0}</h1>\".format(function(self, *args, **kwargs)) \n",
    "    return func_wrapper\n",
    "\n",
    "# Declare a class and apply a decorator to one of its methods\n",
    "class Person:\n",
    "    def __init__(self, first_name, last_name):\n",
    "        self.first_name = first_name\n",
    "        self.last_name = last_name\n",
    "\n",
    "    # Use the h1_tag decorator to wrap the return value of the get_name method with <h1> tags\n",
    "    @h1_tag\n",
    "    def get_name(self):\n",
    "        return self.first_name + ' ' + self.last_name\n",
    "    \n",
    "# Test the decorator by creating an instance of the Person class and calling the decorated method\n",
    "davelee = Person('WoongKeol', 'Kim')\n",
    "print(davelee.get_name())\n"
   ]
  },
  {
   "cell_type": "markdown",
   "metadata": {},
   "source": [
    "### 9. Defining a Decorator with Parameters  \n",
    "It is possible to add parameters to a decorator."
   ]
  },
  {
   "cell_type": "code",
   "execution_count": 71,
   "metadata": {},
   "outputs": [
    {
     "name": "stdout",
     "output_type": "stream",
     "text": [
      "decorator1 1\n",
      "hello\n"
     ]
    }
   ],
   "source": [
    "# Add another layer of nested functions to create the decorator\n",
    "def decorator1(num):\n",
    "    def outer_wrapper(func):\n",
    "        def inner_wrapper(*args, **kwargs):\n",
    "            print(f'decorator1 {num}')\n",
    "            return func(*args, **kwargs)\n",
    "        return inner_wrapper\n",
    "    return outer_wrapper\n",
    "\n",
    "def print_hello():\n",
    "    print('hello')\n",
    "\n",
    "# With this structure, the decorator can be called as follows:\n",
    "print_hello2 = decorator1(1)(print_hello)\n",
    "print_hello2()\n"
   ]
  },
  {
   "cell_type": "code",
   "execution_count": 61,
   "metadata": {},
   "outputs": [
    {
     "name": "stdout",
     "output_type": "stream",
     "text": [
      "decorator1 1\n",
      "hello\n"
     ]
    }
   ],
   "source": [
    "# This can be expressed as a decorator as follows:\n",
    "@decorator1(1)\n",
    "def print_hello():\n",
    "    print('hello')\n",
    "\n",
    "print_hello()"
   ]
  },
  {
   "cell_type": "code",
   "execution_count": 66,
   "metadata": {},
   "outputs": [
    {
     "data": {
      "text/plain": [
       "'<h1><b>Hello! I am WoongKeol Kim</b></h1>'"
      ]
     },
     "execution_count": 66,
     "metadata": {},
     "output_type": "execute_result"
    }
   ],
   "source": [
    "# Add another layer of nested functions to create the decorator\n",
    "def mark_html(mark):\n",
    "    def outer_wrapper(func):\n",
    "        def innter_wrapper(*args, **kwargs):\n",
    "            return f'<{mark}>{func(*args, **kwargs)}</{mark}>'\n",
    "        return innter_wrapper\n",
    "    return outer_wrapper\n",
    "\n",
    "def print_hello(content):\n",
    "    return content\n",
    "\n",
    "@mark_html('h1')\n",
    "@mark_html('b')\n",
    "def print_title(content):\n",
    "    return content\n",
    "\n",
    "print_title('Hello! I am WoongKeol Kim')"
   ]
  },
  {
   "cell_type": "code",
   "execution_count": 69,
   "metadata": {},
   "outputs": [
    {
     "data": {
      "text/html": [
       "<h1><b>Hello! I am WoongKeol Kim</b></h1>\n"
      ],
      "text/plain": [
       "<IPython.core.display.HTML object>"
      ]
     },
     "metadata": {},
     "output_type": "display_data"
    }
   ],
   "source": [
    "%%html\n",
    "<h1><b>Hello! I am WoongKeol Kim</b></h1>"
   ]
  }
 ],
 "metadata": {
  "kernelspec": {
   "display_name": "Python (.vppp)",
   "language": "python",
   "name": ".vppp"
  },
  "language_info": {
   "codemirror_mode": {
    "name": "ipython",
    "version": 3
   },
   "file_extension": ".py",
   "mimetype": "text/x-python",
   "name": "python",
   "nbconvert_exporter": "python",
   "pygments_lexer": "ipython3",
   "version": "3.9.20"
  }
 },
 "nbformat": 4,
 "nbformat_minor": 2
}
