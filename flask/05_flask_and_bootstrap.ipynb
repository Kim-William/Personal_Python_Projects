{
 "cells": [
  {
   "cell_type": "markdown",
   "metadata": {},
   "source": [
    "### 1. Integrating Frontend HTML with Flask\n",
    "**Visual Studio Code** has Emmet functionality built-in:\n",
    "  - Emmet allows you to quickly generate template code using abbreviations.\n",
    "  \n",
    "    Example:\n",
    "    ```\n",
    "    Type `html:5` and press the `<Tab>` key to generate an HTML5 boilerplate template.\n",
    "    ```"
   ]
  },
  {
   "cell_type": "markdown",
   "metadata": {},
   "source": [
    "#### 1.1. Folder Structure and Creating `login.html`\n",
    "\n",
    "The folder structure should be as follows:\n",
    "\n",
    "```\n",
    "directory/\n",
    "    python_file.py\n",
    "    templates/\n",
    "        login.html"
   ]
  },
  {
   "cell_type": "markdown",
   "metadata": {},
   "source": [
    "#### 1.2. Loading Static HTML Pages with Flask\n",
    "\n",
    "Flask allows serving frontend HTML pages using the `render_template()` function.<br>\n",
    "- The `render_template()` function sends HTML files as a response.\n",
    "- HTML files must be located inside the `templates` folder in the Flask project."
   ]
  },
  {
   "cell_type": "code",
   "execution_count": 4,
   "metadata": {},
   "outputs": [
    {
     "name": "stdout",
     "output_type": "stream",
     "text": [
      " * Serving Flask app '__main__'\n",
      " * Debug mode: off\n"
     ]
    },
    {
     "name": "stderr",
     "output_type": "stream",
     "text": [
      "\u001b[31m\u001b[1mWARNING: This is a development server. Do not use it in a production deployment. Use a production WSGI server instead.\u001b[0m\n",
      " * Running on all addresses (0.0.0.0)\n",
      " * Running on http://127.0.0.1:5555\n",
      " * Running on http://172.22.109.123:5555\n",
      "\u001b[33mPress CTRL+C to quit\u001b[0m\n",
      "127.0.0.1 - - [02/Jan/2025 00:23:21] \"GET /login/result?user_name=Kim&pw=password&email_addr=kim.woongkeol@gmail.com HTTP/1.1\" 200 -\n",
      "127.0.0.1 - - [02/Jan/2025 00:23:50] \"GET /login/result?user_name=Kim&pw=password1&email_addr=kim.woongkeol@gmail.com HTTP/1.1\" 200 -\n",
      "127.0.0.1 - - [02/Jan/2025 00:24:00] \"GET /login/result?user_name=Kim&pw=password1&email_addr=kim.woongkeol@gmail.com HTTP/1.1\" 200 -\n",
      "127.0.0.1 - - [02/Jan/2025 00:24:16] \"GET /login/result?user_name=Kim&pw=password&email_addr=kim.woongkeol@gmail.com HTTP/1.1\" 200 -\n",
      "127.0.0.1 - - [02/Jan/2025 00:51:10] \"GET /login/result?user_name=Kim&pw=password1&email_addr=kim.woongkeol@gmail.com HTTP/1.1\" 200 -\n",
      "127.0.0.1 - - [02/Jan/2025 00:53:40] \"GET /login/result?user_name=Kim&pw=password&email_addr=kim.woongkeol@gmail.com HTTP/1.1\" 200 -\n",
      "127.0.0.1 - - [02/Jan/2025 00:53:56] \"GET /login/result?user_name=Kim&pw=password&email_addr=kim.woongkeol@gmail.com HTTP/1.1\" 200 -\n"
     ]
    }
   ],
   "source": [
    "#### Flask Application: Combining Login Functionality and Static Pages\n",
    "from flask import Flask, jsonify, request, render_template\n",
    "\n",
    "app = Flask(__name__)\n",
    "\n",
    "# Handle login result and authentication\n",
    "@app.route('/login/result')\n",
    "def login_result():\n",
    "    username = request.args.get('user_name')\n",
    "    pw = request.args.get('pw')\n",
    "    email = request.args.get('email_addr')\n",
    "    if username == 'Kim':\n",
    "        if pw == 'password':\n",
    "            ret_data = {'auth': 'success', 'email':email}\n",
    "        else:\n",
    "            ret_data = {'auth': 'failed'}\n",
    "    else:\n",
    "        ret_data = {'auth': 'failed'}\n",
    "    return jsonify(ret_data)\n",
    "\n",
    "# Render the login page\n",
    "@app.route('/login')\n",
    "def login():\n",
    "    # Serve the login.html file from the templates folder\n",
    "    return render_template('login.html')\n",
    "\n",
    "if __name__ == '__main__':\n",
    "    app.run(host='0.0.0.0', port='5555')"
   ]
  },
  {
   "cell_type": "markdown",
   "metadata": {},
   "source": [
    "---"
   ]
  },
  {
   "cell_type": "markdown",
   "metadata": {},
   "source": [
    "### 2. Bootstrap"
   ]
  },
  {
   "cell_type": "markdown",
   "metadata": {},
   "source": [
    "### Step-by-Step Guide to Integrate the Bootstrap `sign-in` Template with a Python Flask Project\n",
    "\n",
    "#### 2.1. Downloading the Bootstrap Example\n",
    "1. Visit the following link to access the official Bootstrap example templates:  \n",
    "   Bootstrap Examples (https://getbootstrap.com/docs/5.3/examples/)<br>\n",
    "<img src='source/imgs/flask_and_bootstrap_1.png' width=700px height=500px/>\n",
    "\n",
    "2. Explore the **`sign-in` template** example.  <br>\n",
    "<img src='source/imgs/flask_and_bootstrap_2.png' width=700px height=500px/>\n",
    "\n",
    "#### 2.2. Extracting the Files\n",
    "1. Unzip the downloaded Bootstrap example files.\n",
    "2. Inside the unzipped folder, locate the **`sign-in`** folder.\n",
    "3. Open the folder and find the `index.html` file. This will be used as the base template for your project.\n",
    "\n",
    "#### 2.3. Integrating the Bootstrap Template into a Flask Project\n",
    "1. **Set Up the Flask Project Directory**  \n",
    "   Ensure your Flask project directory is structured as follows:  \n",
    "   ```\n",
    "   static/\n",
    "      brand/\n",
    "      dist/\n",
    "         css/\n",
    "         js/\n",
    "      js/\n",
    "      sign-in.css\n",
    "   templates/\n",
    "      login_bootstrap.html\n",
    "   app.py\n",
    "   ```\n",
    "2. **Move Bootstrap Files**  \n",
    "   - Move the following files from the `sign-in` folder to your Flask project:\n",
    "     - CSS (`bootstrap.min.css`) → `flask/source/static/dist/css/`\n",
    "     - JS files → `flask/source/static/js/`\n",
    "     - SVG files (e.g., `logo.svg`) → `flask/source/static/brand/`\n",
    "   - Rename the `index.html` file as `login_bootstrap.html` and move it to the `templates/` folder in your Flask project.\n",
    "> If you're curious whether your setup is correct, please check the code and directory structure on my GitHub (https://github.com/Kim-William/Personal_Python_Projects/tree/main/flask).\n",
    "\n",
    "#### 2.4. Adjusting Resource Paths in `login_bootstrap.html`\n",
    "1. **Why Adjust Resource Paths?**\n",
    "   - The original resource paths in the Bootstrap template (e.g., `../assets/dist/css/bootstrap.min.css`) do not align with the Flask project's directory structure.\n",
    "   - Flask serves static files from the `/static/` directory by default.\n",
    "\n",
    "2. **How to Adjust Paths?**\n",
    "   - Update the `<link>` and `<script>` tags in `login_bootstrap.html` to reflect the correct Flask static file paths.\n",
    "   - Example:\n",
    "     ```html\n",
    "     <!-- Update the CSS path -->\n",
    "     <link href=\"/static/dist/css/bootstrap.min.css\" rel=\"stylesheet\">\n",
    "\n",
    "     <!-- Update the JS path -->\n",
    "     <script src=\"/static/js/bootstrap.bundle.min.js\"></script>\n",
    "\n",
    "     <!-- Update the SVG logo path -->\n",
    "     <img src=\"/static/brand/logo.svg\" alt=\"Brand Logo\">\n",
    "     ```\n",
    "   - The `href` and `src` attributes must use paths relative to the Flask static directory.\n",
    "\n",
    "#### 2.5. Final Verification\n",
    "1. Run your Flask application.\n",
    "2. Navigate to the route that renders `login_bootstrap.html` in your browser.\n",
    "3. Ensure that the Bootstrap styling and JavaScript functionality are working as expected. The static files (CSS, JS, SVG) should load correctly without any errors in the browser console.\n",
    "\n",
    "<img src='source/imgs/flask_and_bootstrap_3.png' width = 400px height=300px/> → <img src='source/imgs/flask_and_bootstrap_4.png' width = 600px height=100px/>"
   ]
  },
  {
   "cell_type": "code",
   "execution_count": 9,
   "metadata": {},
   "outputs": [
    {
     "name": "stdout",
     "output_type": "stream",
     "text": [
      " * Serving Flask app '__main__'\n",
      " * Debug mode: off\n"
     ]
    },
    {
     "name": "stderr",
     "output_type": "stream",
     "text": [
      "\u001b[31m\u001b[1mWARNING: This is a development server. Do not use it in a production deployment. Use a production WSGI server instead.\u001b[0m\n",
      " * Running on all addresses (0.0.0.0)\n",
      " * Running on http://127.0.0.1:5555\n",
      " * Running on http://172.22.109.123:5555\n",
      "\u001b[33mPress CTRL+C to quit\u001b[0m\n",
      "127.0.0.1 - - [02/Jan/2025 01:43:14] \"GET /login HTTP/1.1\" 200 -\n",
      "127.0.0.1 - - [02/Jan/2025 01:43:14] \"\u001b[36mGET /static/js/color-modes.js HTTP/1.1\u001b[0m\" 304 -\n",
      "127.0.0.1 - - [02/Jan/2025 01:43:14] \"\u001b[36mGET /static/sign-in.css HTTP/1.1\u001b[0m\" 304 -\n",
      "127.0.0.1 - - [02/Jan/2025 01:43:14] \"\u001b[36mGET /static/dist/css/bootstrap.min.css HTTP/1.1\u001b[0m\" 304 -\n",
      "127.0.0.1 - - [02/Jan/2025 01:43:14] \"\u001b[36mGET /static/dist/js/bootstrap.bundle.min.js HTTP/1.1\u001b[0m\" 304 -\n",
      "127.0.0.1 - - [02/Jan/2025 01:43:14] \"\u001b[36mGET /static/brand/bootstrap-logo.svg HTTP/1.1\u001b[0m\" 304 -\n"
     ]
    }
   ],
   "source": [
    "from flask import Flask, jsonify, request, render_template\n",
    "\n",
    "# Set a custom static file path for Bootstrap resources\n",
    "app = Flask(__name__, static_url_path='/static')\n",
    "\n",
    "@app.route('/')\n",
    "def index():\n",
    "    return '<h1>Welcome to Homepage</h1>'\n",
    "\n",
    "@app.route('/login/result')\n",
    "def login_result():\n",
    "    # Retrieve query parameters for password and email\n",
    "    pw = request.args.get('pw')\n",
    "    email = request.args.get('email_addr')\n",
    "    # Validate user credentials\n",
    "    if pw == 'password':\n",
    "        if email == 'kim@gmail.com':\n",
    "            ret_data = {'auth': 'success'}\n",
    "        else:\n",
    "            ret_data = {'auth': 'failed'}\n",
    "    else:\n",
    "        ret_data = {'auth': 'failed'}\n",
    "    return jsonify(ret_data)\n",
    "\n",
    "@app.route('/login')\n",
    "def login():\n",
    "    # Render the HTML page integrated with Bootstrap\n",
    "    return render_template('login_bootstrap.html')\n",
    "\n",
    "if __name__ == '__main__':\n",
    "    # Run the Flask application\n",
    "    app.run(host='0.0.0.0', port='5555')"
   ]
  }
 ],
 "metadata": {
  "kernelspec": {
   "display_name": "Python (.vppp)",
   "language": "python",
   "name": ".vppp"
  },
  "language_info": {
   "codemirror_mode": {
    "name": "ipython",
    "version": 3
   },
   "file_extension": ".py",
   "mimetype": "text/x-python",
   "name": "python",
   "nbconvert_exporter": "python",
   "pygments_lexer": "ipython3",
   "version": "3.9.20"
  }
 },
 "nbformat": 4,
 "nbformat_minor": 2
}
