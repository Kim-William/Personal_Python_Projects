{
 "cells": [
  {
   "cell_type": "markdown",
   "metadata": {},
   "source": [
    "<div class=\"alert alert-block\" style=\"border: 2px solid #000;background-color:#FFF; font-size:1.2em; color:blue;\">\n",
    "※ Topics related to frontend, such as Bootstrap, CDN, Vue, and JavaScript, will be covered in detail later.<br>\n",
    "※ For now, a brief explanation will be provided to focus on the backend.\n",
    "</div>\n",
    "\n"
   ]
  },
  {
   "cell_type": "markdown",
   "metadata": {},
   "source": [
    "### 1. Introduction to Vue, CDN and Flask with REST API"
   ]
  },
  {
   "cell_type": "markdown",
   "metadata": {},
   "source": [
    "#### 1.1. What is a CDN?\n",
    "- A **CDN (Content Delivery Network)** refers to a technology that delivers the content of a provider more efficiently to users who are geographically or physically far away.\n",
    "- When a user downloads content from a distant server, it can take a long time. To address this, the content is cached on a **Cache Server** closer to the user. When content is requested, the **Cache Server** responds instead of the main server.\n",
    "> Bootstrap CDN Introduction: https://getbootstrap.com/docs/4.5/getting-started/introduction/"
   ]
  },
  {
   "cell_type": "markdown",
   "metadata": {},
   "source": [
    "### 2. `vue_test.html`"
   ]
  },
  {
   "cell_type": "markdown",
   "metadata": {},
   "source": [
    "#### 2.1. Adding Bootstrap CDN Code\n",
    "1. Place the `vue_test.html` file inside the **templates** folder.\n",
    "2. Add sample code by referencing the Bootstrap Guide (https://getbootstrap.com/docs/4.5/getting-started/introduction/).\n",
    "\n",
    "<img src='source/imgs/flask_restapi_and_intro_vue/1.png' width = 1000px height = 500px/>\n",
    "\n",
    "> **How to use a CDN**: Instead of placing important JavaScript or CSS files on your server, you can use a specific URL to allow the browser to automatically download them when opening the webpage."
   ]
  },
  {
   "cell_type": "markdown",
   "metadata": {},
   "source": [
    "#### 2.1. Adding Vue Code\n",
    "1. Wrap the display area inside the `<body>` tag using the `<div id='vue_test'></div>` tag.\n",
    "2. Add a Bootstrap button inside the `<div id='vue_test'></div>` tag. (Reference Example: https://getbootstrap.com/docs/4.5/components/buttons/)<br>\n",
    "<img src='source/imgs/flask_restapi_and_intro_vue/2.png' width = 600px height = 300px/>\n",
    "\n",
    "3. Add a Vue.js CDN link above the `</body>` tag.<br>\n",
    "<img src='source/imgs/flask_restapi_and_intro_vue/3.png' width = 1200px height = 200px/>\n",
    "\n",
    "4. To use Axios, add the following script tag right after the Vue.js CDN link:  \n",
    "<img src='source/imgs/flask_restapi_and_intro_vue/4.png' width = 500px height = 100px/>"
   ]
  },
  {
   "cell_type": "markdown",
   "metadata": {},
   "source": [
    "#### 2.2. Vue + Axios Code Integration\n",
    "Use **Axios** to call the **Flask REST API**. <br>\n",
    "Add a button using Bootstrap for testing API calls.<br>\n",
    "\n",
    "1. HTML (Vue + Axios Button Example)<br>\n",
    "<img src='source/imgs/flask_restapi_and_intro_vue/6.png' width = 600px height = 200px/>\n",
    "\n",
    "2. Add the following code to enable Axios functionality:<br>\n",
    "<img src='source/imgs/flask_restapi_and_intro_vue/5.png' width = 800px height = 500px/>\n",
    "\n",
    "> **Include Vue.js and Axios CDNs**\n",
    "> - Vue.js and Axios are included via CDN to enable Vue functionalities and REST API requests in this HTML document.\n",
    "\n",
    "> **Initialize Vue Instance**\n",
    "> - A new Vue instance is created and linked to the DOM element with the `id=\"vue_test\"`. This binds the Vue app to the specific part of the HTML page.\n",
    "\n",
    "> **Define Axios Method**\n",
    "> - The `axios_test()` method is defined inside the `methods` object. This method will handle API requests using Axios.\n",
    "\n",
    "> **Specify API Endpoint**\n",
    "> - The `axios()` function sends a GET request to the Flask REST API endpoint at `http://localhost:5555/test`.\n",
    "\n",
    "> **Handle API Response**\n",
    "> - The `.then()` block handles a successful API response and logs it to the console.\n",
    "> - The `.catch()` block handles any errors that occur during the API request and logs them to the console.\n",
    "\n",
    "---\n",
    "\n",
    "※ The final `vue_test.html` file can be found in my GitHub PPP repository. (https://github.com/Kim-William/Personal_Python_Projects)\n",
    "\n",
    "---"
   ]
  },
  {
   "cell_type": "markdown",
   "metadata": {},
   "source": [
    "#### 2.3. Flask API Example\n",
    "\n",
    "The Flask server code is set up to respond to the Vue.js Axios request with JSON data."
   ]
  },
  {
   "cell_type": "code",
   "execution_count": 1,
   "metadata": {},
   "outputs": [
    {
     "name": "stdout",
     "output_type": "stream",
     "text": [
      " * Serving Flask app '__main__'\n",
      " * Debug mode: off\n"
     ]
    },
    {
     "name": "stderr",
     "output_type": "stream",
     "text": [
      "WARNING: This is a development server. Do not use it in a production deployment. Use a production WSGI server instead.\n",
      " * Running on http://127.0.0.1:5555\n",
      "Press CTRL+C to quit\n",
      "127.0.0.1 - - [04/Jan/2025 15:05:12] \"GET /test HTTP/1.1\" 200 -\n"
     ]
    }
   ],
   "source": [
    "# Flask API Example Code\n",
    "from flask import Flask, make_response, jsonify\n",
    "\n",
    "app = Flask(__name__)\n",
    "\n",
    "@app.route('/test', methods=['GET'])\n",
    "def index():\n",
    "    # Define the data to return\n",
    "    data = {\n",
    "        'success': 'True',\n",
    "        'name': 'kim',\n",
    "        'email-addr': 'kim.woongkeol@gmail.com'\n",
    "    }\n",
    "    # Return the response as JSON\n",
    "    return make_response(jsonify(data), 200)\n",
    "\n",
    "# Run the Flask app\n",
    "app.run(host='127.0.0.1', port=5555)"
   ]
  },
  {
   "cell_type": "markdown",
   "metadata": {},
   "source": [
    "#### 2.4. How This Works\n",
    "\n",
    "1. **Run `vue_test.html`**:\n",
    "   - Open the `vue_test.html` file in a browser (e.g., Chrome) or use the **Live Server** extension in Visual Studio Code.\n",
    "\n",
    "2. **Run Flask API Example Code**:\n",
    "   - Start the Flask server by running the provided Flask example code.\n",
    "   - Ensure that the port specified in the Flask app (e.g., `5555`) matches the port configured in the `axios_test` method of `vue_test.html`.\n",
    "\n",
    "3. **Enable Developer Mode**:\n",
    "   - For Chrome browser (Windows), press `F12` to open **Developer Tools**.\n",
    "\n",
    "4. **Open Console Tab**:\n",
    "   - Navigate to the **Console** tab within Developer Tools.\n",
    "\n",
    "5. **Click the GET Button**:\n",
    "   - In the browser, click the **GET** button in the `vue_test.html` interface.\n",
    "\n",
    "6. **Check Console Output**:\n",
    "   - After clicking the GET button, observe the output in the browser's Console tab.\n",
    "   - If the API request is successful, you should see the response from the Flask API.\n",
    "\n",
    "7. **Handle CORS Error**:\n",
    "   - If an error related to `Access-Control-Allow-Origin` is displayed in the Console, it indicates a CORS policy issue.\n",
    "   - Stop the Flask API and proceed to the next chapter.\n",
    "\n",
    "<img src='source/imgs/flask_restapi_and_intro_vue/7.png' width = 800px height = 500px/>"
   ]
  },
  {
   "cell_type": "markdown",
   "metadata": {},
   "source": [
    "### 3. CORS (Cross-Origin Resource Sharing)"
   ]
  },
  {
   "cell_type": "markdown",
   "metadata": {},
   "source": [
    "HTTP requests in web browsers can typically fetch data from different domains.\n",
    "- Examples:\n",
    "  - Access a webpage: `www.woongkeol.com`.\n",
    "  - This webpage can use an `<img>` tag to fetch an image file from `https://www.google.com/images/branding/googlelogo/2x/googlelogo_light_color_92x30dp.png`.\n",
    "  - It can also use a `<link>` tag to fetch a CSS file from `https://fonts.googleapis.com/css2?family=Roboto:wght@400;700&display=swap`.\n",
    "- **However**, any HTTP requests made inside `<script>` tags (e.g., using `ajax` or `axios`) are restricted to the domain where the script originated.\n",
    "  ```html\n",
    "  <script>\n",
    "  // Restricted HTTP requests\n",
    "  </script>\n",
    "  ```\n",
    "- This restriction applies to requests based on the same **protocol**, **hostname**, and **port**.\n",
    "- This rule is called the **Same-Origin Policy**.\n",
    "\n",
    "> As developers started to use tools like `ajax` and `axios` to make HTTP requests inside `<script>` tags, the need arose to allow cross-domain requests within these scripts. This led to the introduction of the **CORS (Cross-Origin Resource Sharing)** guideline, which is implemented differently across languages.\n",
    "\n",
    "#### 3.1. Error: CORS Issue\n",
    "If the HTTP response headers do not contain the required `Access-Control-Allow-Origin` information, browsers will block the request based on their security policies.\n",
    "\n",
    "#### 3.2. Supporting CORS in Flask\n",
    "To enable CORS in a Flask application, you can use the `flask_cors` library.\n",
    "\n",
    "##### 3.2.1. Installation:\n",
    "```bash\n",
    "pip install flask_cors\n",
    "```"
   ]
  },
  {
   "cell_type": "markdown",
   "metadata": {},
   "source": [
    "##### 3.2.2. Enable CORS for All Routes:"
   ]
  },
  {
   "cell_type": "code",
   "execution_count": null,
   "metadata": {},
   "outputs": [],
   "source": [
    "!pip install flask_cors\n",
    "from flask_cors import CORS\n",
    "\n",
    "app = Flask(__name__)\n",
    "CORS(app)  # Adds CORS headers to all requests and responses"
   ]
  },
  {
   "cell_type": "markdown",
   "metadata": {},
   "source": [
    "#### 3.3 Flask API Example with CORS Support"
   ]
  },
  {
   "cell_type": "code",
   "execution_count": 1,
   "metadata": {},
   "outputs": [
    {
     "name": "stdout",
     "output_type": "stream",
     "text": [
      " * Serving Flask app '__main__'\n",
      " * Debug mode: off\n"
     ]
    },
    {
     "name": "stderr",
     "output_type": "stream",
     "text": [
      "WARNING: This is a development server. Do not use it in a production deployment. Use a production WSGI server instead.\n",
      " * Running on http://127.0.0.1:5555\n",
      "Press CTRL+C to quit\n",
      "127.0.0.1 - - [04/Jan/2025 23:12:53] \"GET /test HTTP/1.1\" 200 -\n"
     ]
    }
   ],
   "source": [
    "# Enabling CORS in Flask Example code\n",
    "from flask import Flask, make_response, jsonify\n",
    "from flask_cors import CORS\n",
    "\n",
    "app = Flask(__name__)\n",
    "# Enable CORS for all routes\n",
    "CORS(app)  \n",
    "\n",
    "@app.route('/test', methods=['GET'])\n",
    "def index():\n",
    "    # Define the data to return\n",
    "    data = {\n",
    "        'success': 'True',\n",
    "        'name': 'kim',\n",
    "        'email-addr': 'kim.woongkeol@gmail.com'\n",
    "    }\n",
    "    # Return the response as JSON\n",
    "    return make_response(jsonify(data), 200)\n",
    "\n",
    "app.run(host='127.0.0.1', port=5555)"
   ]
  },
  {
   "cell_type": "markdown",
   "metadata": {},
   "source": [
    "\n",
    "#### 3.4. Summary\n",
    "1. **Why CORS?**\n",
    "   - CORS is necessary when you need to allow cross-domain requests from your frontend (e.g., Vue.js) to your backend (e.g., Flask).\n",
    "\n",
    "2. **Flask CORS Library**:\n",
    "   - Using `flask_cors`, you can easily add CORS headers to all HTTP responses, ensuring compatibility with frontend requests.\n",
    "\n",
    "3. **Fixing CORS Errors**:\n",
    "   - If you encounter `Access-Control-Allow-Origin` errors, adding `CORS(app)` will resolve the issue.\n",
    "\n",
    "By enabling CORS, the browser will allow cross-domain API calls from the frontend, facilitating seamless communication between your Vue.js and Flask applications. 😊"
   ]
  },
  {
   "cell_type": "markdown",
   "metadata": {},
   "source": [
    "#### 3.4. How This Works\n",
    "1. **CDN Setup**:\n",
    "   - Bootstrap and Vue.js are loaded using their respective CDNs in `vue_test.html`.\n",
    "\n",
    "2. **Vue + Axios**:\n",
    "   - When the button is clicked, Axios sends a GET request to the Flask REST API at `http://localhost:5555/test`.\n",
    "   - The response from the API is logged in the browser's developer console.\n",
    "\n",
    "3. **Flask API**:\n",
    "   - The Flask server listens for a GET request at `/test` and returns a JSON response with the provided data.\n",
    "\n",
    "4. **CORS**:\n",
    "   - `CORS(app)` is added to allow cross-origin requests from the frontend (Vue.js) to the backend (Flask).\n",
    "\n",
    "#### 3.5. Expected Output\n",
    "- **Frontend**: When the button is clicked, the browser's console logs the following response:\n",
    "  ```json\n",
    "  {\n",
    "    \"success\": \"True\",\n",
    "    \"name\": \"kim\",\n",
    "    \"email-addr\": \"kim.woongkeol@gmail.com\"\n",
    "  }\n",
    "  ```\n",
    "  \n",
    "<img src='source/imgs/flask_restapi_and_intro_vue/9.png' width=800px, height=350px/>\n",
    "\n",
    "- **Backend**: The Flask server handles the GET request and responds with the JSON data."
   ]
  },
  {
   "cell_type": "markdown",
   "metadata": {},
   "source": [
    "### 4. REST API Implementation Example"
   ]
  },
  {
   "cell_type": "markdown",
   "metadata": {},
   "source": [
    "#### 4.1. REST API\n",
    "- The goal is to create an API that retrieves parameter values in JSON format from a specific URI and returns data in JSON format.\n",
    "- In Flask:\n",
    "  - Use Python's `dict` type for the response data.\n",
    "  - Convert the `dict` into JSON format using the `jsonify()` function.\n",
    "\n",
    "#### 4.2. Define REST API Methods\n",
    "- When defining Flask APIs, specify the supported HTTP request methods in the `methods` parameter.\n",
    "- The method to extract parameter values depends on the request method:\n",
    "  - `GET`, `PUT`, and `DELETE` methods follow the same parameter extraction process.\n",
    "  - `POST` uses a different process for parameter extraction.\n",
    "- Use Flask's `jsonify()` function to return data in JSON format."
   ]
  },
  {
   "cell_type": "code",
   "execution_count": null,
   "metadata": {},
   "outputs": [],
   "source": [
    "# Define REST API methods Example Code\n",
    "from flask import Flask, request, jsonify\n",
    "\n",
    "app = Flask(__name__)\n",
    "\n",
    "@app.route(\"/test\", methods=['GET', 'POST', 'PUT', 'DELETE'])\n",
    "def test():\n",
    "    if request.method == 'POST':\n",
    "        print('POST')\n",
    "        data = request.get_json()\n",
    "        print(data['email'])\n",
    "    if request.method == 'GET':\n",
    "        print('GET')\n",
    "        user = request.args.get('email')\n",
    "        print(user)\n",
    "    if request.method == 'PUT':\n",
    "        print('PUT')\n",
    "        user = request.args.get('email')\n",
    "        print(user)\n",
    "    if request.method == 'DELETE':\n",
    "        print('DELETE')\n",
    "        user = request.args.get('email')\n",
    "        print(user)\n",
    "\n",
    "    return jsonify({'status': 'success'})"
   ]
  },
  {
   "cell_type": "markdown",
   "metadata": {},
   "source": [
    "### 5. Making HTTP Requests with Axios in Vue.js"
   ]
  },
  {
   "cell_type": "markdown",
   "metadata": {},
   "source": [
    "#### 5.1. Vue Template for Buttons\n",
    "- Create buttons in your Vue template to trigger specific HTTP request methods when clicked.\n",
    "\n",
    "<img src='source/imgs/flask_restapi_and_intro_vue/10.png' width=600px height=200px/>\n",
    "\n",
    "- Modify the `vue_test.html` file's buttons as shown in the image above.  \n",
    "> For the completed file, please refer to the 'rest_api_test.html' file in my GitHub repository."
   ]
  },
  {
   "cell_type": "markdown",
   "metadata": {},
   "source": [
    "#### 5.2. Vue Methods Using Axios\n",
    "- Use Axios to send HTTP requests from the frontend.\n",
    "- HTTP request method is specified using the `method` field.\n",
    "- Parameter values:\n",
    "  - `GET`, `PUT`, and `DELETE`: Include parameters in the `params` field as JSON.\n",
    "  - `POST`: Include parameters in the `data` field as JSON.\n",
    "- Extract response data using `response.data`.\n",
    "- Modify the `const app = new Vue` script in the `vue_test.html` file as shown in the image below.\n",
    "\n",
    "<div>\n",
    "  <div style=\"flex: 1;\">\n",
    "    <img src='source/imgs/flask_restapi_and_intro_vue/11.png' alt=\"Example Image\" width=\"400px\" height=\"250px\"/>\n",
    "    <img style=\"border-left: 1px solid #FFF;\" src='source/imgs/flask_restapi_and_intro_vue/12.png' alt=\"Example Image\" width=\"400px\" height=\"250px\"/>\n",
    "  </div>\n",
    "  \n",
    "  ---\n",
    "\n",
    "  <div style=\"flex: 1;\">\n",
    "    <img src='source/imgs/flask_restapi_and_intro_vue/13.png' width=\"400px\" height=\"250px\"/>\n",
    "    <img style=\"border-left: 1px solid #FFF;\" src='source/imgs/flask_restapi_and_intro_vue/14.png' width=\"400px\" height=\"250px\"/>\n",
    "  </div>\n",
    "</div>\n"
   ]
  },
  {
   "cell_type": "markdown",
   "metadata": {},
   "source": [
    "### 6. HTTP Request Methods (Request Method)"
   ]
  },
  {
   "cell_type": "markdown",
   "metadata": {},
   "source": [
    "- Indicates the purpose of the HTTP request from the client to the server.\n",
    "- Commonly used methods include `GET`, `POST`, `PUT`, and `DELETE`. Among these, `GET` and `POST` are most frequently used.\n",
    "- The way request data is delivered depends on the method.\n",
    "\n",
    "#### 6.1. Key Request Methods in HTML\n",
    "- HTML only supports `GET` and `POST` request methods.\n",
    "\n",
    "1. **GET**: Retrieve Information (SELECT)\n",
    "   - Parameters are passed in the URL.\n",
    "\n",
    "2. **POST**: Submit Information (INSERT)\n",
    "   - Parameters are included in the HTTP body, not visible to the user.\n",
    "\n",
    "3. **PUT (UPDATE)** and **DELETE (DELETE)**:\n",
    "   - Parameters are passed in the URL, similar to `GET`.\n",
    "\n",
    "#### 6.2. Summary\n",
    "- `POST` is preferred for sensitive data as it doesn't expose parameters in the URL.\n",
    "- For RESTful APIs, it is recommended to use HTTP methods (`GET`, `POST`, `PUT`, `DELETE`) based on their intended functionality. This approach is referred to as being **RESTful**."
   ]
  }
 ],
 "metadata": {
  "kernelspec": {
   "display_name": "Python 3 (ipykernel)",
   "language": "python",
   "name": "python3"
  },
  "language_info": {
   "codemirror_mode": {
    "name": "ipython",
    "version": 3
   },
   "file_extension": ".py",
   "mimetype": "text/x-python",
   "name": "python",
   "nbconvert_exporter": "python",
   "pygments_lexer": "ipython3",
   "version": "3.9.13"
  },
  "nbTranslate": {
   "displayLangs": [
    "*"
   ],
   "hotkey": "alt-t",
   "langInMainMenu": true,
   "sourceLang": "en",
   "targetLang": "fr",
   "useGoogleTranslate": true
  }
 },
 "nbformat": 4,
 "nbformat_minor": 4
}
