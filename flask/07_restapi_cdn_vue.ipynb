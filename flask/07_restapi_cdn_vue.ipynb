{
 "cells": [
  {
   "cell_type": "markdown",
   "metadata": {},
   "source": [
    "# Topics related to frontend, such as Bootstrap, CDN, Vue, and JavaScript, will be covered in detail later. \n",
    "\n",
    "※ For now, a brief explanation will be provided to focus on the backend."
   ]
  },
  {
   "cell_type": "markdown",
   "metadata": {},
   "source": [
    "### 1. Introduction to Vue, CDN and Flask with REST API\n",
    "\n",
    "#### 1.1. What is a CDN?\n",
    "- A **CDN (Content Delivery Network)** refers to a technology that delivers the content of a provider more efficiently to users who are geographically or physically far away.\n",
    "- When a user downloads content from a distant server, it can take a long time. To address this, the content is cached on a **Cache Server** closer to the user. When content is requested, the **Cache Server** responds instead of the main server.\n",
    "> Bootstrap CDN Introduction: https://getbootstrap.com/docs/4.5/getting-started/introduction/"
   ]
  },
  {
   "cell_type": "markdown",
   "metadata": {},
   "source": [
    "### 2. `vue_test.html`\n",
    "\n",
    "#### 2.1. Adding Bootstrap CDN Code\n",
    "1. Place the `vue_test.html` file inside the **templates** folder.\n",
    "2. Add sample code by referencing the Bootstrap Guide (https://getbootstrap.com/docs/4.5/getting-started/introduction/).\n",
    "\n",
    "<img src='source/imgs/flask_restapi_and_intro_vue/1.png' width = 1000px height = 500px/>\n",
    "\n",
    "> **How to use a CDN**: Instead of placing important JavaScript or CSS files on your server, you can use a specific URL to allow the browser to automatically download them when opening the webpage."
   ]
  },
  {
   "cell_type": "markdown",
   "metadata": {},
   "source": [
    "#### 2.1. Adding Vue Code\n",
    "1. Wrap the display area inside the `<body>` tag using the `<div id='vue_test'></div>` tag.\n",
    "2. Add a Bootstrap button inside the `<div id='vue_test'></div>` tag. (Reference Example: https://getbootstrap.com/docs/4.5/components/buttons/)<br>\n",
    "<img src='source/imgs/flask_restapi_and_intro_vue/2.png' width = 600px height = 300px/>\n",
    "\n",
    "3. Add a Vue.js CDN link above the `</body>` tag.<br>\n",
    "<img src='source/imgs/flask_restapi_and_intro_vue/3.png' width = 1200px height = 200px/>\n",
    "\n",
    "4. To use Axios, add the following script tag right after the Vue.js CDN link:  \n",
    "<img src='source/imgs/flask_restapi_and_intro_vue/4.png' width = 500px height = 100px/>"
   ]
  },
  {
   "cell_type": "markdown",
   "metadata": {},
   "source": [
    "#### 2.2. Vue + Axios Code Integration\n",
    "Use **Axios** to call the **Flask REST API**. <br>\n",
    "Add a button using Bootstrap for testing API calls.<br>\n",
    "\n",
    "1. HTML (Vue + Axios Button Example)<br>\n",
    "<img src='source/imgs/flask_restapi_and_intro_vue/6.png' width = 600px height = 200px/>\n",
    "\n",
    "2. Add the following code to enable Axios functionality:<br>\n",
    "<img src='source/imgs/flask_restapi_and_intro_vue/5.png' width = 800px height = 500px/>\n",
    "\n",
    "> **Include Vue.js and Axios CDNs**\n",
    "> - Vue.js and Axios are included via CDN to enable Vue functionalities and REST API requests in this HTML document.\n",
    "\n",
    "> **Initialize Vue Instance**\n",
    "> - A new Vue instance is created and linked to the DOM element with the `id=\"vue_test\"`. This binds the Vue app to the specific part of the HTML page.\n",
    "\n",
    "> **Define Axios Method**\n",
    "> - The `axios_test()` method is defined inside the `methods` object. This method will handle API requests using Axios.\n",
    "\n",
    "> **Specify API Endpoint**\n",
    "> - The `axios()` function sends a GET request to the Flask REST API endpoint at `http://localhost:5555/test`.\n",
    "\n",
    "> **Handle API Response**\n",
    "> - The `.then()` block handles a successful API response and logs it to the console.\n",
    "> - The `.catch()` block handles any errors that occur during the API request and logs them to the console.\n",
    "\n",
    "---\n",
    "\n",
    "※ The final `vue_test.html` file can be found in my GitHub PPP repository. (https://github.com/Kim-William/Personal_Python_Projects)\n",
    "\n",
    "---"
   ]
  },
  {
   "cell_type": "markdown",
   "metadata": {},
   "source": [
    "#### 2.3. Flask API Example\n",
    "\n",
    "The Flask server code is set up to respond to the Vue.js Axios request with JSON data."
   ]
  },
  {
   "cell_type": "code",
   "execution_count": 1,
   "metadata": {},
   "outputs": [
    {
     "name": "stdout",
     "output_type": "stream",
     "text": [
      " * Serving Flask app '__main__'\n",
      " * Debug mode: off\n"
     ]
    },
    {
     "name": "stderr",
     "output_type": "stream",
     "text": [
      "WARNING: This is a development server. Do not use it in a production deployment. Use a production WSGI server instead.\n",
      " * Running on http://127.0.0.1:5555\n",
      "Press CTRL+C to quit\n",
      "127.0.0.1 - - [04/Jan/2025 15:05:12] \"GET /test HTTP/1.1\" 200 -\n"
     ]
    }
   ],
   "source": [
    "# Flask API Example Code\n",
    "from flask import Flask, make_response, jsonify\n",
    "\n",
    "app = Flask(__name__)\n",
    "\n",
    "@app.route('/test', methods=['GET'])\n",
    "def index():\n",
    "    # Define the data to return\n",
    "    data = {\n",
    "        'success': 'True',\n",
    "        'name': 'kim',\n",
    "        'email-addr': 'kim.woongkeol@gmail.com'\n",
    "    }\n",
    "    # Return the response as JSON\n",
    "    return make_response(jsonify(data), 200)\n",
    "\n",
    "# Run the Flask app\n",
    "app.run(host='127.0.0.1', port=5555)"
   ]
  },
  {
   "cell_type": "markdown",
   "metadata": {},
   "source": [
    "#### 2.4. How This Works\n",
    "\n",
    "1. **Run `vue_test.html`**:\n",
    "   - Open the `vue_test.html` file in a browser (e.g., Chrome) or use the **Live Server** extension in Visual Studio Code.\n",
    "\n",
    "2. **Run Flask API Example Code**:\n",
    "   - Start the Flask server by running the provided Flask example code.\n",
    "   - Ensure that the port specified in the Flask app (e.g., `5555`) matches the port configured in the `axios_test` method of `vue_test.html`.\n",
    "\n",
    "3. **Enable Developer Mode**:\n",
    "   - For Chrome browser (Windows), press `F12` to open **Developer Tools**.\n",
    "\n",
    "4. **Open Console Tab**:\n",
    "   - Navigate to the **Console** tab within Developer Tools.\n",
    "\n",
    "5. **Click the GET Button**:\n",
    "   - In the browser, click the **GET** button in the `vue_test.html` interface.\n",
    "\n",
    "6. **Check Console Output**:\n",
    "   - After clicking the GET button, observe the output in the browser's Console tab.\n",
    "   - If the API request is successful, you should see the response from the Flask API.\n",
    "\n",
    "7. **Handle CORS Error**:\n",
    "   - If an error related to `Access-Control-Allow-Origin` is displayed in the Console, it indicates a CORS policy issue.\n",
    "   - Stop the Flask API and proceed to the next chapter.\n",
    "\n",
    "<img src='source/imgs/flask_restapi_and_intro_vue/7.png' width = 800px height = 500px/>"
   ]
  }
 ],
 "metadata": {
  "kernelspec": {
   "display_name": "Python 3 (ipykernel)",
   "language": "python",
   "name": "python3"
  },
  "language_info": {
   "codemirror_mode": {
    "name": "ipython",
    "version": 3
   },
   "file_extension": ".py",
   "mimetype": "text/x-python",
   "name": "python",
   "nbconvert_exporter": "python",
   "pygments_lexer": "ipython3",
   "version": "3.9.13"
  },
  "nbTranslate": {
   "displayLangs": [
    "*"
   ],
   "hotkey": "alt-t",
   "langInMainMenu": true,
   "sourceLang": "en",
   "targetLang": "fr",
   "useGoogleTranslate": true
  }
 },
 "nbformat": 4,
 "nbformat_minor": 4
}
