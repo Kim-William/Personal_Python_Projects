{
 "cells": [
  {
   "cell_type": "markdown",
   "metadata": {},
   "source": [
    "### 1. Handling Errors in Flask"
   ]
  },
  {
   "cell_type": "markdown",
   "metadata": {},
   "source": [
    "#### Error Handling with `errorhandler`\n",
    "- Use `@app.errorhandler` to define custom pages for HTTP error codes.\n",
    "- If no error code is passed as the second argument of `return`, the server defaults to a `200` success response."
   ]
  },
  {
   "cell_type": "code",
   "execution_count": null,
   "metadata": {},
   "outputs": [],
   "source": [
    "# Error Hanlder Example Code\n",
    "from flask import Flask \n",
    "import requests\n",
    "\n",
    "app = Flask(__name__)   \n",
    "\n",
    "# Handle requests for non-existent pages (404 error)\n",
    "@app.errorhandler(404)\n",
    "def page_not_found(error):\n",
    "    return \"<h1>404 Error</h1>\", 404\n",
    "\n",
    "@app.route(\"/google\")\n",
    "def get_google():\n",
    "    response = requests.get(\"http://www.google.co.kr\")\n",
    "    return response.text \n",
    "\n",
    "if __name__ == \"__main__\":\n",
    "    app.run(host=\"0.0.0.0\", port=\"5555\")"
   ]
  },
  {
   "cell_type": "markdown",
   "metadata": {},
   "source": [
    "### 2. Logging in Flask"
   ]
  },
  {
   "cell_type": "markdown",
   "metadata": {},
   "source": [
    "#### 2.1. Why Use Logging?\n",
    "- Servers operate 24/7, so logging helps identify issues when problems occur.\n",
    "- Logging can monitor user activity, detect hacking attempts, and handle various operational challenges.\n",
    "- While logging is not essential during development, it becomes crucial during deployment.\n",
    "\n",
    "> Note: Logging is primarily for production, so this section provides a brief overview. Further implementation can be done during deployment.\n",
    "\n",
    "#### 2.2. Using Python's `logging` Library\n",
    "- Python provides the `logging` library for managing logs.\n",
    "- Logging has levels that allow restricting the output of logs.\n",
    "  - **DEBUG > INFO > WARNING > ERROR > CRITICAL**"
   ]
  },
  {
   "cell_type": "code",
   "execution_count": null,
   "metadata": {},
   "outputs": [],
   "source": [
    "# Logging Example Code\n",
    "import logging\n",
    "\n",
    "# Write logs to a file\n",
    "logging.basicConfig(filename='test.log', level=logging.DEBUG)\n",
    "\n",
    "# Log messages based on their levels\n",
    "logging.debug(\"debug\")\n",
    "logging.info(\"info\")\n",
    "logging.warning(\"warning\")\n",
    "logging.error(\"error\")\n",
    "logging.critical(\"critical\")"
   ]
  },
  {
   "cell_type": "markdown",
   "metadata": {},
   "source": [
    "#### 2.2. Flask with Logging\n",
    "- Flask integrates with Python's `logging` library to support advanced logging handlers.\n",
    "- Common Logging Handlers:\n",
    "  - **FileHandler**: Saves logs to a file.\n",
    "  - **RotatingFileHandler**: Saves logs to multiple files with a maximum size for each file.\n",
    "    - Example: `maxBytes=2000`, `backupCount=10` creates 10 files, each up to 2000 bytes.\n",
    "  - **SysLogHandler**: Logs to Unix-based system logs.\n",
    "  - **NTEventLogHandler**: Logs to Windows event logs.\n",
    "\n",
    "> **Tip**: Use `RotatingFileHandler` to avoid filling up disk space with log files.\n",
    "\n",
    "> If you're testing in Jupyter Notebook, note that logging configurations may not behave as expected. For instance, setting the logging level to debug might still record only warnings and above. This is due to how Jupyter handles logging internally. Therefore, `it's recommended to test` logging configurations using a `standalone Python script` like `test_logging.py` instead of in Jupyter Notebook."
   ]
  },
  {
   "cell_type": "code",
   "execution_count": null,
   "metadata": {},
   "outputs": [],
   "source": [
    "# Logging with Flask Production Example Code\n",
    "from flask import Flask \n",
    "import datetime\n",
    "\n",
    "app = Flask(__name__)\n",
    "\n",
    "# Set debug mode to False for production\n",
    "app.debug = False\n",
    "\n",
    "if not app.debug:\n",
    "    import logging\n",
    "    # Specify the logging handler to use\n",
    "    from logging.handlers import RotatingFileHandler  \n",
    "    file_handler = RotatingFileHandler('server.log', maxBytes=2000, backupCount=10) \n",
    "    # Define the logging level\n",
    "    app.logger.level = logging.INFO \n",
    "    # Register the handler with app.logger to enable logging\n",
    "    app.logger.addHandler(file_handler)  \n",
    "\n",
    "@app.route('/')\n",
    "def home():\n",
    "    time_now = datetime.datetime.now()\n",
    "    time_now = time_now.strftime(\"%Y-%m-%d %H:%M:%S\")\n",
    "    app.logger.debug(f'{time_now} :: [Debug]Home Page !!')\n",
    "    app.logger.info(f'{time_now} :: [Info]Home Page !!')\n",
    "    app.logger.warning(f'{time_now} :: [Warning]Home Page !!')\n",
    "    app.logger.error(f'{time_now} :: [Error]Home Page !!')\n",
    "    app.logger.critical(f'{time_now} :: [Critical]Home Page !!')\n",
    "    return \"<h1>home</h1>\"\n",
    "\n",
    "@app.errorhandler(404)\n",
    "def page_not_found(error):\n",
    "    app.logger.error(error)\n",
    "    return \"<h1>404 Error</h1>\", 404\n",
    "\n",
    "if __name__ == \"__main__\":\n",
    "    app.run(host=\"0.0.0.0\", port=\"5555\", debug=False)\n"
   ]
  },
  {
   "cell_type": "markdown",
   "metadata": {},
   "source": [
    "### 3. Using Flask Decorators for Advanced Functionality"
   ]
  },
  {
   "cell_type": "markdown",
   "metadata": {},
   "source": [
    "#### 3.1. Available Decorators\n",
    "1. **`@before_request`**:\n",
    "   - Executes before every HTTP request.\n",
    "   - Cannot accept arguments.\n",
    "\n",
    "2. **`@after_request`**:\n",
    "   - Executes after the HTTP request is processed but before the response is sent.\n",
    "   - Must accept the `response` object as an argument and return it.\n",
    "\n",
    "3. **`@before_first_request`**:\n",
    "   - Executes only once before the first HTTP request after the server starts."
   ]
  },
  {
   "cell_type": "code",
   "execution_count": null,
   "metadata": {},
   "outputs": [],
   "source": [
    "# Before and After Decorator Example Code\n",
    "from flask import Flask\n",
    "\n",
    "app = Flask(__name__)\n",
    "\n",
    "# Track if the first request is processed\n",
    "initialized = False\n",
    "\n",
    "# Function to execute only before the first request\n",
    "def before_first_request():\n",
    "    print(\"Executed before the first HTTP request after server start.\")\n",
    "\n",
    "# Function to execute before every request\n",
    "@app.before_request\n",
    "def before_request():\n",
    "    global initialized\n",
    "    if not initialized:\n",
    "        before_first_request()\n",
    "        initialized = True\n",
    "        return\n",
    "    print(\"Executed before every HTTP request.\")\n",
    "\n",
    "# Function to execute after every request\n",
    "@app.after_request\n",
    "def after_request(response):\n",
    "    print(\"Executed after every HTTP request, before the response is sent.\")\n",
    "    return response\n",
    "\n",
    "@app.route(\"/\")\n",
    "def index():\n",
    "    return \"<h1>Home!</h1>\"\n",
    "\n",
    "@app.route(\"/hello\")\n",
    "def hello():\n",
    "    return \"<h1>Hello Flask!</h1>\"\n",
    "\n",
    "if __name__ == \"__main__\":\n",
    "    app.run(host=\"0.0.0.0\", port=5555)"
   ]
  }
 ],
 "metadata": {
  "kernelspec": {
   "display_name": "Python 3 (ipykernel)",
   "language": "python",
   "name": "python3"
  },
  "language_info": {
   "codemirror_mode": {
    "name": "ipython",
    "version": 3
   },
   "file_extension": ".py",
   "mimetype": "text/x-python",
   "name": "python",
   "nbconvert_exporter": "python",
   "pygments_lexer": "ipython3",
   "version": "3.9.13"
  },
  "nbTranslate": {
   "displayLangs": [
    "*"
   ],
   "hotkey": "alt-t",
   "langInMainMenu": true,
   "sourceLang": "en",
   "targetLang": "fr",
   "useGoogleTranslate": true
  }
 },
 "nbformat": 4,
 "nbformat_minor": 4
}
